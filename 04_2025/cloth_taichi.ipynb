{
 "cells": [
  {
   "metadata": {
    "ExecuteTime": {
     "end_time": "2025-04-06T16:11:45.013661Z",
     "start_time": "2025-04-06T16:11:45.011950Z"
    }
   },
   "cell_type": "code",
   "source": [
    "import numpy as np\n",
    "import matplotlib.pyplot as plt\n",
    "import os"
   ],
   "id": "7fa0c3a400d25a1b",
   "outputs": [],
   "execution_count": 41
  },
  {
   "metadata": {
    "ExecuteTime": {
     "end_time": "2025-04-06T16:11:45.093037Z",
     "start_time": "2025-04-06T16:11:45.019527Z"
    }
   },
   "cell_type": "code",
   "source": [
    "import taichi as ti\n",
    "ti.init(arch=ti.cpu)"
   ],
   "id": "d6522a71c96c2230",
   "outputs": [
    {
     "name": "stdout",
     "output_type": "stream",
     "text": [
      "[Taichi] Starting on arch=arm64\n"
     ]
    }
   ],
   "execution_count": 42
  },
  {
   "metadata": {
    "collapsed": true,
    "ExecuteTime": {
     "end_time": "2025-04-06T16:11:45.101027Z",
     "start_time": "2025-04-06T16:11:45.098879Z"
    }
   },
   "cell_type": "code",
   "source": [
    "# Параметры системы\n",
    "N = 50  # Число осцилляторов по горизонтали\n",
    "M = 50  # Число осцилляторов по вертикали\n",
    "m = 0.1  # Масса каждого осциллятора\n",
    "g = 9.8  # Ускорение свободного падения\n",
    "dt = 0.01  # Шаг времени\n",
    "nstep = 30  # Количество шагов\n",
    "\n",
    "# Параметры связей\n",
    "l0 = 1/(N-1)  # Длина нерастяжимой связи\n",
    "Cs = 500.0  # Жесткость при контакте со сферой\n",
    "Bs = 5.0  # Коэффициент демпфирования при контакте со сферой\n",
    "R = 0.25  # Радиус сферы\n",
    "sphere_center = ti.Vector([1.0, 1.0, 1.0])  # Центр сферы\n"
   ],
   "id": "initial_id",
   "outputs": [],
   "execution_count": 43
  },
  {
   "metadata": {
    "ExecuteTime": {
     "end_time": "2025-04-06T16:11:45.113302Z",
     "start_time": "2025-04-06T16:11:45.111199Z"
    }
   },
   "cell_type": "code",
   "source": "l0",
   "id": "19d225eb949b8274",
   "outputs": [
    {
     "data": {
      "text/plain": [
       "0.02040816326530612"
      ]
     },
     "execution_count": 44,
     "metadata": {},
     "output_type": "execute_result"
    }
   ],
   "execution_count": 44
  },
  {
   "metadata": {
    "ExecuteTime": {
     "end_time": "2025-04-06T16:11:45.125309Z",
     "start_time": "2025-04-06T16:11:45.116796Z"
    }
   },
   "cell_type": "code",
   "source": [
    "# Начальные условия\n",
    "x = ti.Vector.field(3, dtype=ti.f32)\n",
    "v = ti.Vector.field(3, dtype=ti.f32)\n",
    "a = ti.Vector.field(3, dtype=ti.f32)\n",
    "ti.root.pointer(ti.i, N).dense(ti.j, M).place(x)\n",
    "ti.root.pointer(ti.i, N).dense(ti.j, M).place(v)\n",
    "ti.root.pointer(ti.i, N).dense(ti.j, M).place(a)\n",
    "forces = ti.Vector.field(3, dtype=ti.f32)\n",
    "ti.root.pointer(ti.i, N).dense(ti.j, M).place(forces)\n",
    "x_prev = ti.Vector.field(3, dtype=ti.f32)\n",
    "ti.root.pointer(ti.i, N).dense(ti.j, M).place(x_prev)\n",
    "# Расположение осцилляторов в начальный момент\n",
    "@ti.kernel\n",
    "def init_x_v():\n",
    "    for i in range(N):\n",
    "        for j in range(M):\n",
    "            x[i, j] = [i * l0 + 0.5, j * l0 + 0.5, 1.5]  # Начальная высота 1.5\n",
    "            v[i, j] = [0, 0, 0]\n",
    "            v[i, j] = [0, 0, 0]\n",
    "            # Предыдущие положения для метода Верле\n",
    "            x_prev[i, j] = x[i, j] - v[i, j] * dt + 0.5 * a[i, j] * dt**2"
   ],
   "id": "e3bde2108ea8c603",
   "outputs": [],
   "execution_count": 45
  },
  {
   "metadata": {
    "ExecuteTime": {
     "end_time": "2025-04-06T16:11:45.153256Z",
     "start_time": "2025-04-06T16:11:45.131177Z"
    }
   },
   "cell_type": "code",
   "source": "init_x_v()",
   "id": "2500a48cca8c2a76",
   "outputs": [],
   "execution_count": 46
  },
  {
   "metadata": {
    "ExecuteTime": {
     "end_time": "2025-04-06T16:11:45.179197Z",
     "start_time": "2025-04-06T16:11:45.158961Z"
    }
   },
   "cell_type": "code",
   "source": "x.to_numpy()",
   "id": "18b31b2c516c805f",
   "outputs": [
    {
     "data": {
      "text/plain": [
       "array([[[0.5       , 0.5       , 1.5       ],\n",
       "        [0.5       , 0.52040815, 1.5       ],\n",
       "        [0.5       , 0.5408163 , 1.5       ],\n",
       "        ...,\n",
       "        [0.5       , 1.4591837 , 1.5       ],\n",
       "        [0.5       , 1.4795918 , 1.5       ],\n",
       "        [0.5       , 1.5       , 1.5       ]],\n",
       "\n",
       "       [[0.52040815, 0.5       , 1.5       ],\n",
       "        [0.52040815, 0.52040815, 1.5       ],\n",
       "        [0.52040815, 0.5408163 , 1.5       ],\n",
       "        ...,\n",
       "        [0.52040815, 1.4591837 , 1.5       ],\n",
       "        [0.52040815, 1.4795918 , 1.5       ],\n",
       "        [0.52040815, 1.5       , 1.5       ]],\n",
       "\n",
       "       [[0.5408163 , 0.5       , 1.5       ],\n",
       "        [0.5408163 , 0.52040815, 1.5       ],\n",
       "        [0.5408163 , 0.5408163 , 1.5       ],\n",
       "        ...,\n",
       "        [0.5408163 , 1.4591837 , 1.5       ],\n",
       "        [0.5408163 , 1.4795918 , 1.5       ],\n",
       "        [0.5408163 , 1.5       , 1.5       ]],\n",
       "\n",
       "       ...,\n",
       "\n",
       "       [[1.4591837 , 0.5       , 1.5       ],\n",
       "        [1.4591837 , 0.52040815, 1.5       ],\n",
       "        [1.4591837 , 0.5408163 , 1.5       ],\n",
       "        ...,\n",
       "        [1.4591837 , 1.4591837 , 1.5       ],\n",
       "        [1.4591837 , 1.4795918 , 1.5       ],\n",
       "        [1.4591837 , 1.5       , 1.5       ]],\n",
       "\n",
       "       [[1.4795918 , 0.5       , 1.5       ],\n",
       "        [1.4795918 , 0.52040815, 1.5       ],\n",
       "        [1.4795918 , 0.5408163 , 1.5       ],\n",
       "        ...,\n",
       "        [1.4795918 , 1.4591837 , 1.5       ],\n",
       "        [1.4795918 , 1.4795918 , 1.5       ],\n",
       "        [1.4795918 , 1.5       , 1.5       ]],\n",
       "\n",
       "       [[1.5       , 0.5       , 1.5       ],\n",
       "        [1.5       , 0.52040815, 1.5       ],\n",
       "        [1.5       , 0.5408163 , 1.5       ],\n",
       "        ...,\n",
       "        [1.5       , 1.4591837 , 1.5       ],\n",
       "        [1.5       , 1.4795918 , 1.5       ],\n",
       "        [1.5       , 1.5       , 1.5       ]]], dtype=float32)"
      ]
     },
     "execution_count": 47,
     "metadata": {},
     "output_type": "execute_result"
    }
   ],
   "execution_count": 47
  },
  {
   "metadata": {
    "ExecuteTime": {
     "end_time": "2025-04-06T16:11:45.242145Z",
     "start_time": "2025-04-06T16:11:45.237867Z"
    }
   },
   "cell_type": "code",
   "source": [
    "# Функция для расчета сил\n",
    "@ti.kernel\n",
    "def compute_forces():\n",
    "    # Гравитация\n",
    "    for i in range(N):\n",
    "        for j in range(M):\n",
    "            forces[i, j] = [0, 0, - m * g]\n",
    "    # Взаимодействие со сферой\n",
    "    for i in range(N):\n",
    "        for j in range(M):\n",
    "            r = x[i, j] - sphere_center\n",
    "            # dist = np.linalg.norm(r)\n",
    "            dist = ti.sqrt(r.x ** 2 + r.y ** 2 + r.z ** 2)\n",
    "            if dist < R:  # Если масса внутри сферы\n",
    "                normal = r / dist  # Нормаль к поверхности сферы\n",
    "                penetration = R - dist  # Глубина проникновения\n",
    "                # relative_velocity = np.dot(v[i, j], normal)  # Проекция скорости на нормаль\n",
    "                relative_velocity = v[i,j] * normal\n",
    "                # Добавляем силу отталкивания и демпфирования\n",
    "                forces[i, j] += Cs * penetration * normal + Bs * relative_velocity * normal\n",
    "                # Корректируем положение массы на поверхности сферы\n",
    "                for _ in range(5):  # Итеративная коррекция\n",
    "                    r = x[i, j] - sphere_center\n",
    "                    # dist = np.linalg.norm(r)\n",
    "                    dist = ti.sqrt(r.x ** 2 + r.y ** 2 + r.z ** 2)\n",
    "                    if dist < R:\n",
    "                        normal = r / dist\n",
    "                        penetration = R - dist\n",
    "                        x[i, j] += penetration * normal\n",
    "                # Разделяем скорость на нормальную и тангенциальную составляющие\n",
    "                normal = r / dist\n",
    "                # v_normal = np.dot(v[i, j], normal) * normal\n",
    "                v_normal = v[i, j].dot(normal) * normal\n",
    "                v_tangent = v[i, j] - v_normal\n",
    "                v[i, j] = v_tangent  # Сохраняем только тангенциальную составляющую\n",
    "                # Проверка, что масса на поверхности\n",
    "                # assert np.isclose(np.linalg.norm(x[i, j] - sphere_center), R), \\\n",
    "                #     f\"Ошибка: масса не на поверхности сферы, dist={np.linalg.norm(x[i, j] - sphere_center)}\"\n",
    "    # return forces"
   ],
   "id": "d042bfe4fed228b6",
   "outputs": [],
   "execution_count": 48
  },
  {
   "metadata": {
    "ExecuteTime": {
     "end_time": "2025-04-06T16:11:45.252182Z",
     "start_time": "2025-04-06T16:11:45.248145Z"
    }
   },
   "cell_type": "code",
   "source": [
    "# Проекционный метод для восстановления нерастяжимых связей。PD\n",
    "@ti.kernel\n",
    "def enforce_constraints():\n",
    "    tolerance = 1e-6  # Допустимая погрешность\n",
    "    max_iterations = 100  # Максимальное число итераций\n",
    "    for _ in range(max_iterations):\n",
    "        max_error = 0.0\n",
    "        for i in range(N):\n",
    "            for j in range(M):\n",
    "                forces[i, j] = [0, 0, - m * g]\n",
    "                # Коррекция связей с соседями\n",
    "                if i < N - 1:  # Горизонтальная связь \n",
    "                    dx = x[i + 1, j] - x[i, j]\n",
    "                    dist = ti.sqrt(dx.x ** 2 + dx.y ** 2 + dx.z ** 2)\n",
    "                    error = abs(dist - l0)\n",
    "                    max_error = max(max_error, error)\n",
    "                    correction = (l0 - dist) / (2 * dist) * dx\n",
    "                    x[i + 1, j] += correction\n",
    "                    x[i, j] -= correction\n",
    "                if j < M - 1:  # Вертикальная связь\n",
    "                    dy = x[i, j + 1] - x[i, j]\n",
    "                    # dist = np.linalg.norm(dy)\n",
    "                    dist = ti.sqrt(dy.x ** 2 + dy.y ** 2 + dy.z ** 2)\n",
    "                    error = abs(dist - l0)\n",
    "                    max_error = max(max_error, error)\n",
    "                    correction = (l0 - dist) / (2 * dist) * dy\n",
    "                    x[i, j + 1] += correction\n",
    "                    x[i, j] -= correction\n",
    "        if max_error < tolerance:\n",
    "            break"
   ],
   "id": "88747a79c6e5a742",
   "outputs": [],
   "execution_count": 49
  },
  {
   "metadata": {
    "ExecuteTime": {
     "end_time": "2025-04-06T16:11:45.268533Z",
     "start_time": "2025-04-06T16:11:45.258422Z"
    }
   },
   "cell_type": "code",
   "source": [
    "# Функция для визуализации текущего состояния\n",
    "def visualize_step(x, step):\n",
    "    xs, ys, zs = x[:, :, 0], x[:, :, 1], x[:, :, 2]\n",
    "    fig, axes = plt.subplots(2, 2, figsize=(12, 10))  # Четыре панели (2x2)\n",
    "    # Общий трехмерный вид\n",
    "    ax_general = fig.add_subplot(2, 2, 1, projection='3d')\n",
    "    ax_general.scatter(xs, ys, zs, c='blue', s=50, label='Массы')\n",
    "    # Отображение связей\n",
    "    for i in range(N):\n",
    "        for j in range(M):\n",
    "            if i < N - 1:  # Горизонтальные связи\n",
    "                ax_general.plot([x[i, j, 0], x[i + 1, j, 0]],\n",
    "                                [x[i, j, 1], x[i + 1, j, 1]],\n",
    "                                [x[i, j, 2], x[i + 1, j, 2]], color='gray', linewidth=0.5)\n",
    "            if j < M - 1:  # Вертикальные связи\n",
    "                ax_general.plot([x[i, j, 0], x[i, j + 1, 0]],\n",
    "                                [x[i, j, 1], x[i, j + 1, 1]],\n",
    "                                [x[i, j, 2], x[i, j + 1, 2]], color='gray', linewidth=0.5)\n",
    "    # Отображение сферы\n",
    "    u = np.linspace(0, 2 * np.pi, 100)\n",
    "    v = np.linspace(0, np.pi, 50)\n",
    "    x_sphere = sphere_center[0] + R * np.outer(np.cos(u), np.sin(v))\n",
    "    y_sphere = sphere_center[1] + R * np.outer(np.sin(u), np.sin(v))\n",
    "    z_sphere = sphere_center[2] + R * np.outer(np.ones(np.size(u)), np.cos(v))\n",
    "    ax_general.plot_surface(x_sphere, y_sphere, z_sphere, color='red', alpha=0.5, label='Сфера')\n",
    "    # Настройка графика\n",
    "    ax_general.set_xlim(-0.1, 2.0)\n",
    "    ax_general.set_ylim(-0.1, 2.0)\n",
    "    ax_general.set_zlim(-0.1, 2.0)\n",
    "    ax_general.set_box_aspect([1, 1, 1])\n",
    "    ax_general.set_xlabel('X')\n",
    "    ax_general.set_ylabel('Y')\n",
    "    ax_general.set_zlabel('Z')\n",
    "    ax_general.set_title(\"Общий вид\")\n",
    "    ax_general.legend()\n",
    "    # Вид сверху вдоль оси Z\n",
    "    ax_top = fig.add_subplot(2, 2, 2)\n",
    "    ax_top.scatter(xs, ys, c='blue', s=50, label='Массы')\n",
    "    for i in range(N):\n",
    "        for j in range(M):\n",
    "            if i < N - 1:  # Горизонтальные связи\n",
    "                ax_top.plot([x[i, j, 0], x[i + 1, j, 0]],\n",
    "                            [x[i, j, 1], x[i + 1, j, 1]], color='gray', linewidth=0.5)\n",
    "            if j < M - 1:  # Вертикальные связи\n",
    "                ax_top.plot([x[i, j, 0], x[i, j + 1, 0]],\n",
    "                            [x[i, j, 1], x[i, j + 1, 1]], color='gray', linewidth=0.5)\n",
    "    ax_top.set_xlim(-0.1, 2.0)\n",
    "    ax_top.set_ylim(-0.1, 2.0)\n",
    "    ax_top.set_xlabel('X')\n",
    "    ax_top.set_ylabel('Y')\n",
    "    ax_top.set_title(\"Вид сверху (по Z)\")\n",
    "    ax_top.legend()\n",
    "    # Вид сбоку вдоль оси X\n",
    "    ax_side_x = fig.add_subplot(2, 2, 3)\n",
    "    ax_side_x.scatter(ys, zs, c='blue', s=50, label='Массы')\n",
    "    for i in range(N):\n",
    "        for j in range(M):\n",
    "            if i < N - 1:  # Горизонтальные связи\n",
    "                ax_side_x.plot([x[i, j, 1], x[i + 1, j, 1]],\n",
    "                               [x[i, j, 2], x[i + 1, j, 2]], color='gray', linewidth=0.5)\n",
    "            if j < M - 1:  # Вертикальные связи\n",
    "                ax_side_x.plot([x[i, j, 1], x[i, j + 1, 1]],\n",
    "                               [x[i, j, 2], x[i, j + 1, 2]], color='gray', linewidth=0.5)\n",
    "    ax_side_x.set_xlim(-0.1, 2.0)\n",
    "    ax_side_x.set_ylim(-0.1, 2.0)\n",
    "    ax_side_x.set_xlabel('Y')\n",
    "    ax_side_x.set_ylabel('Z')\n",
    "    ax_side_x.set_title(\"Вид сбоку (по X)\")\n",
    "    ax_side_x.legend()\n",
    "    # Вид сбоку вдоль оси Y\n",
    "    ax_side_y = fig.add_subplot(2, 2, 4)\n",
    "    ax_side_y.scatter(xs, zs, c='blue', s=50, label='Массы')\n",
    "    for i in range(N):\n",
    "        for j in range(M):\n",
    "            if i < N - 1:  # Горизонтальные связи\n",
    "                ax_side_y.plot([x[i, j, 0], x[i + 1, j, 0]],\n",
    "                               [x[i, j, 2], x[i + 1, j, 2]], color='gray', linewidth=0.5)\n",
    "            if j < M - 1:  # Вертикальные связи\n",
    "                ax_side_y.plot([x[i, j, 0], x[i, j + 1, 0]],\n",
    "                               [x[i, j, 2], x[i, j + 1, 2]], color='gray', linewidth=0.5)\n",
    "    ax_side_y.set_xlim(-0.1, 2.0)\n",
    "    ax_side_y.set_ylim(-0.1, 2.0)\n",
    "    ax_side_y.set_xlabel('X')\n",
    "    ax_side_y.set_ylabel('Z')\n",
    "    ax_side_y.set_title(\"Вид сбоку (по Y)\")\n",
    "    ax_side_y.legend()\n",
    "    # Сохранение кадра\n",
    "    frame_path = os.path.join(output_dir, f\"frame_{step:04d}.png\")\n",
    "    plt.tight_layout()\n",
    "    plt.savefig(frame_path)\n",
    "    plt.close(fig)"
   ],
   "id": "f17f0e92e148dedb",
   "outputs": [],
   "execution_count": 50
  },
  {
   "metadata": {
    "ExecuteTime": {
     "end_time": "2025-04-06T16:11:45.276534Z",
     "start_time": "2025-04-06T16:11:45.273978Z"
    }
   },
   "cell_type": "code",
   "source": [
    "@ti.kernel\n",
    "def update_x_v():\n",
    "    for i in range(N):\n",
    "        for j in range(M):\n",
    "            forces[i, j] = [0, 0, - m * g]\n",
    "            a[i, j] = forces[i, j] / m  # Вычисляем ускорения\n",
    "            # Метод Верле\n",
    "            x_next = 2 * x[i, j] - x_prev[i, j] + a[i, j] * dt**2\n",
    "            v_new = (x_next - x_prev[i, j]) / (2 * dt)\n",
    "            x_prev[i, j] = x[i, j]\n",
    "            x[i, j] = x_next\n",
    "            v[i, j] = v_new"
   ],
   "id": "a6a332c10093c9ec",
   "outputs": [],
   "execution_count": 51
  },
  {
   "metadata": {
    "ExecuteTime": {
     "end_time": "2025-04-06T16:16:10.548731Z",
     "start_time": "2025-04-06T16:11:45.281862Z"
    }
   },
   "cell_type": "code",
   "source": [
    "# Создание каталога для сохранения кадров\n",
    "output_dir = f\"frames_{N}*{M}_taichi\"\n",
    "os.makedirs(output_dir, exist_ok=True)\n",
    "\n",
    "# Моделирование\n",
    "positions = []\n",
    "for step in range(nstep):\n",
    "    print(f\"STEP: {step}\")\n",
    "    compute_forces()  # Рассчитываем силы\n",
    "    update_x_v()\n",
    "    # Применяем проекционный метод\n",
    "    enforce_constraints()\n",
    "    positions.append(x.to_numpy().copy())\n",
    "    # print(f\"X {x.to_numpy()}\")\n",
    "    # Визуализация\n",
    "    visualize_step(x.to_numpy(), step)\n",
    "        \n",
    "print(f\"Моделирование завершено. Кадры сохранены в каталог '{output_dir}'.\")"
   ],
   "id": "41e1a69ff0b9da4f",
   "outputs": [
    {
     "name": "stdout",
     "output_type": "stream",
     "text": [
      "STEP: 0\n",
      "STEP: 1\n",
      "STEP: 2\n"
     ]
    },
    {
     "name": "stderr",
     "output_type": "stream",
     "text": [
      "/var/folders/wg/vzdjz4_n2q3gtl63x660zg2r0000gn/T/ipykernel_71905/3872868707.py:90: UserWarning: Creating legend with loc=\"best\" can be slow with large amounts of data.\n",
      "  plt.savefig(frame_path)\n"
     ]
    },
    {
     "name": "stdout",
     "output_type": "stream",
     "text": [
      "STEP: 3\n",
      "STEP: 4\n",
      "STEP: 5\n",
      "STEP: 6\n",
      "STEP: 7\n",
      "STEP: 8\n",
      "STEP: 9\n",
      "STEP: 10\n",
      "STEP: 11\n",
      "STEP: 12\n",
      "STEP: 13\n",
      "STEP: 14\n",
      "STEP: 15\n",
      "STEP: 16\n",
      "STEP: 17\n",
      "STEP: 18\n",
      "STEP: 19\n",
      "STEP: 20\n",
      "STEP: 21\n",
      "STEP: 22\n"
     ]
    },
    {
     "name": "stderr",
     "output_type": "stream",
     "text": [
      "/var/folders/wg/vzdjz4_n2q3gtl63x660zg2r0000gn/T/ipykernel_71905/3872868707.py:89: UserWarning: Creating legend with loc=\"best\" can be slow with large amounts of data.\n",
      "  plt.tight_layout()\n"
     ]
    },
    {
     "name": "stdout",
     "output_type": "stream",
     "text": [
      "STEP: 23\n",
      "STEP: 24\n",
      "STEP: 25\n",
      "STEP: 26\n",
      "STEP: 27\n",
      "STEP: 28\n",
      "STEP: 29\n",
      "Моделирование завершено. Кадры сохранены в каталог 'frames_50*50_taichi'.\n"
     ]
    }
   ],
   "execution_count": 52
  },
  {
   "metadata": {
    "ExecuteTime": {
     "end_time": "2025-04-06T16:16:10.555725Z",
     "start_time": "2025-04-06T16:16:10.554207Z"
    }
   },
   "cell_type": "code",
   "source": "",
   "id": "112ab3b3b19d483e",
   "outputs": [],
   "execution_count": null
  },
  {
   "metadata": {
    "ExecuteTime": {
     "end_time": "2025-04-06T16:16:11.573808Z",
     "start_time": "2025-04-06T16:16:10.561165Z"
    }
   },
   "cell_type": "code",
   "source": [
    "import imageio.v2 as imageio\n",
    "import os\n",
    "\n",
    "# Список файлов кадров\n",
    "frame_files = sorted([os.path.join(output_dir, f) for f in os.listdir(output_dir) if f.endswith(\".png\")])\n",
    "\n",
    "# Создание анимации\n",
    "with imageio.get_writer(f\"animation{N}_taichi.gif\", mode=\"I\", duration=0.05) as writer:\n",
    "    for frame_file in frame_files:\n",
    "        image = imageio.imread(frame_file)\n",
    "        writer.append_data(image)\n",
    "\n",
    "print(f\"Анимация сохранена как 'animation{N}_taichi.gif'.\")"
   ],
   "id": "f764e5185383af68",
   "outputs": [
    {
     "name": "stdout",
     "output_type": "stream",
     "text": [
      "Анимация сохранена как 'animation50_taichi.gif'.\n"
     ]
    }
   ],
   "execution_count": 53
  }
 ],
 "metadata": {
  "kernelspec": {
   "display_name": "Python 3",
   "language": "python",
   "name": "python3"
  },
  "language_info": {
   "codemirror_mode": {
    "name": "ipython",
    "version": 2
   },
   "file_extension": ".py",
   "mimetype": "text/x-python",
   "name": "python",
   "nbconvert_exporter": "python",
   "pygments_lexer": "ipython2",
   "version": "2.7.6"
  }
 },
 "nbformat": 4,
 "nbformat_minor": 5
}
