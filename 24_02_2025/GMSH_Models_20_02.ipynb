{
 "cells": [
  {
   "cell_type": "code",
   "id": "6a026543-47ba-4b0e-8d44-428b793220cf",
   "metadata": {
    "ExecuteTime": {
     "end_time": "2025-03-10T16:34:37.140551Z",
     "start_time": "2025-03-10T16:34:37.138068Z"
    }
   },
   "source": [
    "# %run -m pip install numpy==1.26.4\n",
    "# %run -m pip install gmsh\n",
    "# %run -m pip install polars"
   ],
   "outputs": [],
   "execution_count": 1
  },
  {
   "cell_type": "code",
   "id": "db2c505d-5a24-4fa9-840e-47f5d7dfa48a",
   "metadata": {
    "ExecuteTime": {
     "end_time": "2025-03-10T16:34:38.774202Z",
     "start_time": "2025-03-10T16:34:37.172746Z"
    }
   },
   "source": [
    "import numpy as np\n",
    "import gmsh\n",
    "import os, sys, shutil, glob\n",
    "import polars as pl"
   ],
   "outputs": [],
   "execution_count": 2
  },
  {
   "cell_type": "code",
   "id": "6ece0ad8-90fc-46f2-a241-389adf28a253",
   "metadata": {
    "ExecuteTime": {
     "end_time": "2025-03-10T16:34:38.836985Z",
     "start_time": "2025-03-10T16:34:38.835038Z"
    }
   },
   "source": [
    "# Размер пластины по оси Х, м\n",
    "A = 1.0\n",
    "# Размер пластины по оси У, м \n",
    "B = 1.0\n",
    "# Толщины слоев, м\n",
    "H = np.array([0.001,0.001,0.001])\n",
    "# Число слоев\n",
    "N = H.shape[0]\n",
    "# Число Элементов Сетки по осям X:Nx, Y:Ny и Z:Nz\n",
    "Nx = 128\n",
    "Ny = 128\n",
    "Nz = 1\n"
   ],
   "outputs": [],
   "execution_count": 3
  },
  {
   "cell_type": "code",
   "id": "63e643dc-8c82-468f-b329-65eb40d4d507",
   "metadata": {
    "ExecuteTime": {
     "end_time": "2025-03-10T16:34:38.848155Z",
     "start_time": "2025-03-10T16:34:38.845639Z"
    }
   },
   "source": [
    "Curr_Path = os.getcwd()\n",
    "print(Curr_Path)\n",
    "Results_Path = os.path.join(Curr_Path,'Results')\n",
    "print( Results_Path)\n",
    "os.makedirs(Results_Path,mode=0o777, exist_ok=True)\n",
    "\n",
    "FName0 = f\"Model_1_GMSH_OCC_A_{A}_B_{B}_N_{N}_Nx_{Nx}_Ny_{Ny}_Nz_{Nz}\"\n",
    "FPath = os.path.join(Results_Path,f\"Model_1_GMSH_OCC_A_{A}_B_{B}_N_{N}_Nx_{Nx}_Ny_{Ny}_Nz_{Nz}\")\n",
    "os.makedirs(FPath,mode=0o777, exist_ok=True)"
   ],
   "outputs": [
    {
     "name": "stdout",
     "output_type": "stream",
     "text": [
      "/Users/collapsor/PycharmProjects/Taichi_project\n",
      "/Users/collapsor/PycharmProjects/Taichi_project/Results\n"
     ]
    }
   ],
   "execution_count": 4
  },
  {
   "cell_type": "code",
   "id": "0352b14d-6d8a-4bba-8320-d8fc4a107363",
   "metadata": {
    "ExecuteTime": {
     "end_time": "2025-03-10T16:34:38.980942Z",
     "start_time": "2025-03-10T16:34:38.972980Z"
    }
   },
   "source": [
    "gmsh.initialize()"
   ],
   "outputs": [],
   "execution_count": 5
  },
  {
   "cell_type": "code",
   "id": "6d6f7cfe-0bff-406a-914a-425f99e2288c",
   "metadata": {
    "ExecuteTime": {
     "end_time": "2025-03-10T16:34:39.026125Z",
     "start_time": "2025-03-10T16:34:39.024294Z"
    }
   },
   "source": [
    "gmsh.model.add(\"Model_1_gmsh_occ\")"
   ],
   "outputs": [],
   "execution_count": 6
  },
  {
   "cell_type": "code",
   "id": "5dafd943-b8d2-41c8-9266-ca7583a50283",
   "metadata": {
    "ExecuteTime": {
     "end_time": "2025-03-10T16:34:39.049810Z",
     "start_time": "2025-03-10T16:34:39.046582Z"
    }
   },
   "source": [
    "ElSize = np.min([A/Nx,B/Ny])\n",
    "ElSize"
   ],
   "outputs": [
    {
     "data": {
      "text/plain": [
       "np.float64(0.0078125)"
      ]
     },
     "execution_count": 7,
     "metadata": {},
     "output_type": "execute_result"
    }
   ],
   "execution_count": 7
  },
  {
   "cell_type": "code",
   "id": "d32097e2-6e88-4f22-954f-72fdbf2dd527",
   "metadata": {
    "ExecuteTime": {
     "end_time": "2025-03-10T16:34:39.102189Z",
     "start_time": "2025-03-10T16:34:39.098488Z"
    }
   },
   "source": [
    "gmsh.model.occ.addRectangle(x=0,y=0,z=0,dx=A,dy=B,tag=1)"
   ],
   "outputs": [
    {
     "data": {
      "text/plain": [
       "1"
      ]
     },
     "execution_count": 8,
     "metadata": {},
     "output_type": "execute_result"
    }
   ],
   "execution_count": 8
  },
  {
   "cell_type": "code",
   "id": "f7768269-1cff-43b5-a9d4-61dede6bc47d",
   "metadata": {
    "ExecuteTime": {
     "end_time": "2025-03-10T16:34:39.138958Z",
     "start_time": "2025-03-10T16:34:39.136786Z"
    }
   },
   "source": [
    "gmsh.model.occ.synchronize()"
   ],
   "outputs": [],
   "execution_count": 9
  },
  {
   "cell_type": "code",
   "id": "76c9a5a2-b66e-490d-9d71-82cdf900cffe",
   "metadata": {
    "ExecuteTime": {
     "end_time": "2025-03-10T16:34:39.154929Z",
     "start_time": "2025-03-10T16:34:39.152514Z"
    }
   },
   "source": [
    "Surfaces = gmsh.model.occ.getEntities(dim=2)\n",
    "Surfaces"
   ],
   "outputs": [
    {
     "data": {
      "text/plain": [
       "[(2, 1)]"
      ]
     },
     "execution_count": 10,
     "metadata": {},
     "output_type": "execute_result"
    }
   ],
   "execution_count": 10
  },
  {
   "cell_type": "code",
   "id": "51d55bb2-d03f-4ea6-b146-5359666ace77",
   "metadata": {
    "ExecuteTime": {
     "end_time": "2025-03-10T16:34:39.162778Z",
     "start_time": "2025-03-10T16:34:39.160814Z"
    }
   },
   "source": [
    "Layer_mesh = gmsh.model.occ.extrude(dimTags=[(2, 1)], \n",
    "                                    dx=0, dy=0, dz=H[0], \n",
    "                                    numElements=[1], \n",
    "                                    heights=[1],\n",
    "                                    recombine=True)"
   ],
   "outputs": [],
   "execution_count": 11
  },
  {
   "cell_type": "code",
   "id": "781b9e9b-8ebf-4b8c-b962-aaa20dc86484",
   "metadata": {
    "ExecuteTime": {
     "end_time": "2025-03-10T16:34:41.588532Z",
     "start_time": "2025-03-10T16:34:39.176011Z"
    }
   },
   "source": [
    "gmsh.model.occ.synchronize()\n",
    "gmsh.fltk.run()"
   ],
   "outputs": [
    {
     "name": "stdout",
     "output_type": "stream",
     "text": [
      "-------------------------------------------------------\n",
      "Version       : 4.13.1\n",
      "License       : GNU General Public License\n",
      "Build OS      : MacOSARM-sdk\n",
      "Build date    : 20240524\n",
      "Build host    : gmsh.info\n",
      "Build options : 64Bit ALGLIB[contrib] ANN[contrib] Bamg Blas[petsc] Blossom Cgns DIntegration Dlopen DomHex Eigen[contrib] Fltk GMP Gmm[contrib] Hxt Jpeg Kbipack Lapack[petsc] MathEx[contrib] Med Mesh Metis[contrib] Mpeg Netgen Nii2mesh ONELAB ONELABMetamodel OpenCASCADE OpenCASCADE-CAF OpenGL OpenMP OptHom PETSc Parser Plugins Png Post QuadMeshingTools QuadTri Solver TetGen/BR TinyXML2[contrib] TouchBar Untangle Voro++[contrib] WinslowUntangler Zlib\n",
      "FLTK version  : 1.4.0\n",
      "PETSc version : 3.17.4 (real arithmtic)\n",
      "OCC version   : 7.7.2\n",
      "MED version   : 4.1.0\n",
      "Packaged by   : geuzaine\n",
      "Web site      : https://gmsh.info\n",
      "Issue tracker : https://gitlab.onelab.info/gmsh/gmsh/issues\n",
      "-------------------------------------------------------\n"
     ]
    },
    {
     "name": "stderr",
     "output_type": "stream",
     "text": [
      "2025-03-10 19:34:39.412 python[83017:13189431] +[IMKClient subclass]: chose IMKClient_Modern\n",
      "2025-03-10 19:34:39.412 python[83017:13189431] +[IMKInputSession subclass]: chose IMKInputSession_Modern\n"
     ]
    }
   ],
   "execution_count": 12
  },
  {
   "cell_type": "code",
   "id": "152b562d-8ac5-4d69-86d2-52d276acbaa9",
   "metadata": {
    "ExecuteTime": {
     "end_time": "2025-03-10T16:34:41.599600Z",
     "start_time": "2025-03-10T16:34:41.596424Z"
    }
   },
   "source": [
    "Points = gmsh.model.occ.getEntities(dim=0)\n",
    "Points"
   ],
   "outputs": [
    {
     "data": {
      "text/plain": [
       "[(0, 1), (0, 2), (0, 3), (0, 4), (0, 5), (0, 6), (0, 7), (0, 8)]"
      ]
     },
     "execution_count": 13,
     "metadata": {},
     "output_type": "execute_result"
    }
   ],
   "execution_count": 13
  },
  {
   "cell_type": "code",
   "id": "a434580c-5475-4587-8d6f-7b8b5d20445a",
   "metadata": {
    "ExecuteTime": {
     "end_time": "2025-03-10T16:34:41.644939Z",
     "start_time": "2025-03-10T16:34:41.642665Z"
    }
   },
   "source": [
    "Layer_mesh #[0][0]"
   ],
   "outputs": [
    {
     "data": {
      "text/plain": [
       "[(2, 6), (3, 1), (2, 2), (2, 3), (2, 4), (2, 5)]"
      ]
     },
     "execution_count": 14,
     "metadata": {},
     "output_type": "execute_result"
    }
   ],
   "execution_count": 14
  },
  {
   "cell_type": "code",
   "id": "c9abf747-53e3-4506-b5a0-971e67051702",
   "metadata": {
    "ExecuteTime": {
     "end_time": "2025-03-10T16:34:41.689338Z",
     "start_time": "2025-03-10T16:34:41.687796Z"
    }
   },
   "source": [
    "#gmsh.model.mesh.setSize([(Layer_mesh[0][0], Layer_mesh[0][1])], ElSize)"
   ],
   "outputs": [],
   "execution_count": 15
  },
  {
   "cell_type": "code",
   "id": "48a450ea-cb17-4478-bca5-163eea7f2fa9",
   "metadata": {
    "ExecuteTime": {
     "end_time": "2025-03-10T16:34:42.375768Z",
     "start_time": "2025-03-10T16:34:41.710407Z"
    }
   },
   "source": [
    "for i in range(1,N):\n",
    "    #print(f\"Layer_{i+1}\")\n",
    "    Layer_mesh = gmsh.model.occ.extrude(dimTags=[Layer_mesh[0]], \n",
    "                                        dx=0, dy=0, dz=H[i], \n",
    "                                        numElements=[1], \n",
    "                                        heights=[1], \n",
    "                                        recombine=True)\n",
    "    gmsh.model.occ.synchronize()\n",
    "    #gmsh.model.mesh.setSize([(Layer_mesh[0][0], Layer_mesh[0][1])], ElSize)\n",
    "\n",
    "gmsh.model.occ.synchronize()\n",
    "gmsh.fltk.run()"
   ],
   "outputs": [
    {
     "name": "stdout",
     "output_type": "stream",
     "text": [
      "-------------------------------------------------------\n",
      "Version       : 4.13.1\n",
      "License       : GNU General Public License\n",
      "Build OS      : MacOSARM-sdk\n",
      "Build date    : 20240524\n",
      "Build host    : gmsh.info\n",
      "Build options : 64Bit ALGLIB[contrib] ANN[contrib] Bamg Blas[petsc] Blossom Cgns DIntegration Dlopen DomHex Eigen[contrib] Fltk GMP Gmm[contrib] Hxt Jpeg Kbipack Lapack[petsc] MathEx[contrib] Med Mesh Metis[contrib] Mpeg Netgen Nii2mesh ONELAB ONELABMetamodel OpenCASCADE OpenCASCADE-CAF OpenGL OpenMP OptHom PETSc Parser Plugins Png Post QuadMeshingTools QuadTri Solver TetGen/BR TinyXML2[contrib] TouchBar Untangle Voro++[contrib] WinslowUntangler Zlib\n",
      "FLTK version  : 1.4.0\n",
      "PETSc version : 3.17.4 (real arithmtic)\n",
      "OCC version   : 7.7.2\n",
      "MED version   : 4.1.0\n",
      "Packaged by   : geuzaine\n",
      "Web site      : https://gmsh.info\n",
      "Issue tracker : https://gitlab.onelab.info/gmsh/gmsh/issues\n",
      "-------------------------------------------------------\n"
     ]
    }
   ],
   "execution_count": 16
  },
  {
   "cell_type": "code",
   "id": "4e716c20-d529-4520-9818-5001a5b51ab0",
   "metadata": {
    "ExecuteTime": {
     "end_time": "2025-03-10T16:34:42.386353Z",
     "start_time": "2025-03-10T16:34:42.382993Z"
    }
   },
   "source": [
    "Points = gmsh.model.occ.getEntities(dim=0)\n",
    "Points"
   ],
   "outputs": [
    {
     "data": {
      "text/plain": [
       "[(0, 1),\n",
       " (0, 2),\n",
       " (0, 3),\n",
       " (0, 4),\n",
       " (0, 5),\n",
       " (0, 6),\n",
       " (0, 7),\n",
       " (0, 8),\n",
       " (0, 9),\n",
       " (0, 10),\n",
       " (0, 11),\n",
       " (0, 12),\n",
       " (0, 13),\n",
       " (0, 14),\n",
       " (0, 15),\n",
       " (0, 16)]"
      ]
     },
     "execution_count": 17,
     "metadata": {},
     "output_type": "execute_result"
    }
   ],
   "execution_count": 17
  },
  {
   "metadata": {
    "ExecuteTime": {
     "end_time": "2025-03-10T16:34:42.431319Z",
     "start_time": "2025-03-10T16:34:42.428244Z"
    }
   },
   "cell_type": "code",
   "source": [
    "# import random\n",
    "# \n",
    "# for point in Points:\n",
    "#     # print(point)\n",
    "#     length = ElSize * random.uniform(0.8, 1.2)\n",
    "#     # print(length)\n",
    "#     gmsh.model.mesh.setSize([(0, point[1])], length)\n",
    "\n",
    "Points = gmsh.model.occ.getEntities(dim=0)\n",
    "for point in Points:\n",
    "    # 这里可以根据点的坐标或其它规则，设置不同的尺寸\n",
    "    # 假设根据 x 坐标来设置尺寸\n",
    "    x, y, z = gmsh.model.occ.getCenterOfMass(point[0], point[1])\n",
    "    size = 0.001 + 0.002 * abs(x - A/2)  # 例如在 x=A/2 附近更细\n",
    "    gmsh.model.mesh.setSize([point], size)"
   ],
   "id": "d248ce4592a5ba4d",
   "outputs": [],
   "execution_count": 18
  },
  {
   "cell_type": "code",
   "id": "1660374c-7572-4ea3-8a9d-8a09e51808b2",
   "metadata": {
    "ExecuteTime": {
     "end_time": "2025-03-10T16:34:42.463679Z",
     "start_time": "2025-03-10T16:34:42.461770Z"
    }
   },
   "source": "gmsh.model.mesh.setSize(Points, ElSize)",
   "outputs": [],
   "execution_count": 19
  },
  {
   "cell_type": "code",
   "id": "d3ea9926-372d-46de-8e67-b24a095ac4a0",
   "metadata": {
    "scrolled": true,
    "ExecuteTime": {
     "end_time": "2025-03-10T16:34:42.651208Z",
     "start_time": "2025-03-10T16:34:42.469825Z"
    }
   },
   "source": [
    "gmsh.model.mesh.setTransfiniteAutomatic(recombine=True)\n",
    "gmsh.option.setNumber(\"Mesh.Algorithm\", 1)\n",
    "gmsh.option.setNumber(\"Mesh.Algorithm3D\", 1)\n",
    "gmsh.option.setNumber(\"Mesh.OptimizeNetgen\", 1)\n",
    "gmsh.model.mesh.generate(3)"
   ],
   "outputs": [
    {
     "name": "stdout",
     "output_type": "stream",
     "text": [
      "Info    : Meshing 1D...\n",
      "Info    : [  0%] Meshing curve 1 (Line)\n",
      "Info    : [ 10%] Meshing curve 2 (Line)\n",
      "Info    : [ 10%] Meshing curve 3 (Line)\n",
      "Info    : [ 20%] Meshing curve 4 (Line)\n",
      "Info    : [ 20%] Meshing curve 5 (Extruded)\n",
      "Info    : [ 20%] Meshing curve 6 (Extruded)\n",
      "Info    : [ 30%] Meshing curve 7 (Extruded)\n",
      "Info    : [ 30%] Meshing curve 8 (Extruded)\n",
      "Info    : [ 30%] Meshing curve 9 (Extruded)\n",
      "Info    : [ 40%] Meshing curve 10 (Extruded)\n",
      "Info    : [ 40%] Meshing curve 11 (Extruded)\n",
      "Info    : [ 40%] Meshing curve 12 (Extruded)\n",
      "Info    : [ 50%] Meshing curve 13 (Extruded)\n",
      "Info    : [ 50%] Meshing curve 14 (Extruded)\n",
      "Info    : [ 60%] Meshing curve 15 (Extruded)\n",
      "Info    : [ 60%] Meshing curve 16 (Extruded)\n",
      "Info    : [ 60%] Meshing curve 17 (Extruded)\n",
      "Info    : [ 70%] Meshing curve 18 (Extruded)\n",
      "Info    : [ 70%] Meshing curve 19 (Extruded)\n",
      "Info    : [ 70%] Meshing curve 20 (Extruded)\n",
      "Info    : [ 80%] Meshing curve 21 (Extruded)\n",
      "Info    : [ 80%] Meshing curve 22 (Extruded)\n",
      "Info    : [ 80%] Meshing curve 23 (Extruded)\n",
      "Info    : [ 90%] Meshing curve 24 (Extruded)\n",
      "Info    : [ 90%] Meshing curve 25 (Extruded)\n",
      "Info    : [ 90%] Meshing curve 26 (Extruded)\n",
      "Info    : [100%] Meshing curve 27 (Extruded)\n",
      "Info    : [100%] Meshing curve 28 (Extruded)\n",
      "Info    : Done meshing 1D (Wall 0.000344208s, CPU 0.000439s)\n",
      "Info    : Meshing 2D...\n",
      "Info    : [  0%] Meshing surface 1 (Transfinite)\n",
      "Info    : [ 10%] Meshing surface 2 (Transfinite)\n",
      "Info    : [ 20%] Meshing surface 3 (Transfinite)\n",
      "Info    : [ 20%] Meshing surface 4 (Transfinite)\n",
      "Info    : [ 30%] Meshing surface 5 (Transfinite)\n",
      "Info    : [ 40%] Meshing surface 6 (Transfinite)\n",
      "Info    : [ 40%] Meshing surface 7 (Transfinite)\n",
      "Info    : [ 50%] Meshing surface 8 (Transfinite)\n",
      "Info    : [ 60%] Meshing surface 9 (Transfinite)\n",
      "Info    : [ 60%] Meshing surface 10 (Transfinite)\n",
      "Info    : [ 70%] Meshing surface 11 (Transfinite)\n",
      "Info    : [ 70%] Meshing surface 12 (Transfinite)\n",
      "Info    : [ 80%] Meshing surface 13 (Transfinite)\n",
      "Info    : [ 90%] Meshing surface 14 (Transfinite)\n",
      "Info    : [ 90%] Meshing surface 15 (Transfinite)\n",
      "Info    : [100%] Meshing surface 16 (Transfinite)\n",
      "Info    : Done meshing 2D (Wall 0.00768467s, CPU 0.007002s)\n",
      "Info    : Meshing 3D...\n",
      "Info    : Meshing volume 1 (Extruded)\n",
      "Info    : Meshing volume 2 (Extruded)\n",
      "Info    : Meshing volume 3 (Extruded)\n",
      "Info    : Done meshing 3D (Wall 0.153106s, CPU 0.148986s)\n",
      "Info    : Optimizing mesh...\n",
      "Info    : Done optimizing mesh (Wall 0.000413917s, CPU 0.000486s)\n",
      "Info    : Optimizing mesh (Netgen)...\n",
      "Info    : Done optimizing mesh (Wall 0.000395333s, CPU 0.000392s)\n",
      "Info    : 67600 nodes 120127 elements\n"
     ]
    }
   ],
   "execution_count": 20
  },
  {
   "cell_type": "code",
   "id": "bb47f269-deb0-4081-b73f-7670d0552d22",
   "metadata": {
    "ExecuteTime": {
     "end_time": "2025-03-10T16:34:43.483220Z",
     "start_time": "2025-03-10T16:34:42.656547Z"
    }
   },
   "source": [
    "gmsh.model.occ.synchronize()\n",
    "gmsh.fltk.run()"
   ],
   "outputs": [
    {
     "name": "stdout",
     "output_type": "stream",
     "text": [
      "-------------------------------------------------------\n",
      "Version       : 4.13.1\n",
      "License       : GNU General Public License\n",
      "Build OS      : MacOSARM-sdk\n",
      "Build date    : 20240524\n",
      "Build host    : gmsh.info\n",
      "Build options : 64Bit ALGLIB[contrib] ANN[contrib] Bamg Blas[petsc] Blossom Cgns DIntegration Dlopen DomHex Eigen[contrib] Fltk GMP Gmm[contrib] Hxt Jpeg Kbipack Lapack[petsc] MathEx[contrib] Med Mesh Metis[contrib] Mpeg Netgen Nii2mesh ONELAB ONELABMetamodel OpenCASCADE OpenCASCADE-CAF OpenGL OpenMP OptHom PETSc Parser Plugins Png Post QuadMeshingTools QuadTri Solver TetGen/BR TinyXML2[contrib] TouchBar Untangle Voro++[contrib] WinslowUntangler Zlib\n",
      "FLTK version  : 1.4.0\n",
      "PETSc version : 3.17.4 (real arithmtic)\n",
      "OCC version   : 7.7.2\n",
      "MED version   : 4.1.0\n",
      "Packaged by   : geuzaine\n",
      "Web site      : https://gmsh.info\n",
      "Issue tracker : https://gitlab.onelab.info/gmsh/gmsh/issues\n",
      "-------------------------------------------------------\n"
     ]
    }
   ],
   "execution_count": 21
  },
  {
   "cell_type": "code",
   "id": "1d8636bf-a6f9-4a21-8dea-085976eab339",
   "metadata": {
    "ExecuteTime": {
     "end_time": "2025-03-10T16:34:43.585221Z",
     "start_time": "2025-03-10T16:34:43.490816Z"
    }
   },
   "source": [
    "gmsh.model.mesh.createEdges()\n",
    "gmsh.model.mesh.createFaces()"
   ],
   "outputs": [],
   "execution_count": 22
  },
  {
   "cell_type": "code",
   "id": "426babbd-4f58-45da-ad36-0decafcb7efd",
   "metadata": {
    "ExecuteTime": {
     "end_time": "2025-03-10T16:34:43.595247Z",
     "start_time": "2025-03-10T16:34:43.590404Z"
    }
   },
   "source": "nodeTags, nodeCoords, _ = gmsh.model.mesh.getNodes(dim=3,includeBoundary=True)",
   "outputs": [],
   "execution_count": 23
  },
  {
   "metadata": {
    "ExecuteTime": {
     "end_time": "2025-03-10T16:34:44.889009Z",
     "start_time": "2025-03-10T16:34:43.601342Z"
    }
   },
   "cell_type": "code",
   "source": [
    "gmsh.model.occ.synchronize()\n",
    "gmsh.fltk.run()"
   ],
   "id": "36103b18b0f4143c",
   "outputs": [
    {
     "name": "stdout",
     "output_type": "stream",
     "text": [
      "-------------------------------------------------------\n",
      "Version       : 4.13.1\n",
      "License       : GNU General Public License\n",
      "Build OS      : MacOSARM-sdk\n",
      "Build date    : 20240524\n",
      "Build host    : gmsh.info\n",
      "Build options : 64Bit ALGLIB[contrib] ANN[contrib] Bamg Blas[petsc] Blossom Cgns DIntegration Dlopen DomHex Eigen[contrib] Fltk GMP Gmm[contrib] Hxt Jpeg Kbipack Lapack[petsc] MathEx[contrib] Med Mesh Metis[contrib] Mpeg Netgen Nii2mesh ONELAB ONELABMetamodel OpenCASCADE OpenCASCADE-CAF OpenGL OpenMP OptHom PETSc Parser Plugins Png Post QuadMeshingTools QuadTri Solver TetGen/BR TinyXML2[contrib] TouchBar Untangle Voro++[contrib] WinslowUntangler Zlib\n",
      "FLTK version  : 1.4.0\n",
      "PETSc version : 3.17.4 (real arithmtic)\n",
      "OCC version   : 7.7.2\n",
      "MED version   : 4.1.0\n",
      "Packaged by   : geuzaine\n",
      "Web site      : https://gmsh.info\n",
      "Issue tracker : https://gitlab.onelab.info/gmsh/gmsh/issues\n",
      "-------------------------------------------------------\n"
     ]
    }
   ],
   "execution_count": 24
  },
  {
   "cell_type": "code",
   "id": "1756844d-09ad-4641-8091-310ce87ff026",
   "metadata": {
    "ExecuteTime": {
     "end_time": "2025-03-10T16:34:44.896867Z",
     "start_time": "2025-03-10T16:34:44.894712Z"
    }
   },
   "source": "nodeTags.max()",
   "outputs": [
    {
     "data": {
      "text/plain": [
       "np.uint64(67600)"
      ]
     },
     "execution_count": 25,
     "metadata": {},
     "output_type": "execute_result"
    }
   ],
   "execution_count": 25
  },
  {
   "metadata": {
    "ExecuteTime": {
     "end_time": "2025-03-10T16:34:44.923372Z",
     "start_time": "2025-03-10T16:34:44.921243Z"
    }
   },
   "cell_type": "code",
   "source": "nodeTags.shape",
   "id": "f49d4aba66c32131",
   "outputs": [
    {
     "data": {
      "text/plain": [
       "(101400,)"
      ]
     },
     "execution_count": 26,
     "metadata": {},
     "output_type": "execute_result"
    }
   ],
   "execution_count": 26
  },
  {
   "metadata": {
    "ExecuteTime": {
     "end_time": "2025-03-10T16:34:44.949561Z",
     "start_time": "2025-03-10T16:34:44.947352Z"
    }
   },
   "cell_type": "code",
   "source": "nodeTags",
   "id": "1317044fed0f53fd",
   "outputs": [
    {
     "data": {
      "text/plain": [
       "array([2065, 2066, 2067, ...,   14,   15,   16], dtype=uint64)"
      ]
     },
     "execution_count": 27,
     "metadata": {},
     "output_type": "execute_result"
    }
   ],
   "execution_count": 27
  },
  {
   "cell_type": "code",
   "id": "26d4fbc0-4589-4a77-8dcc-fda0be2b1fdc",
   "metadata": {
    "ExecuteTime": {
     "end_time": "2025-03-10T16:34:44.980160Z",
     "start_time": "2025-03-10T16:34:44.977377Z"
    }
   },
   "source": [
    "nodeCoords.shape"
   ],
   "outputs": [
    {
     "data": {
      "text/plain": [
       "(304200,)"
      ]
     },
     "execution_count": 28,
     "metadata": {},
     "output_type": "execute_result"
    }
   ],
   "execution_count": 28
  },
  {
   "metadata": {
    "ExecuteTime": {
     "end_time": "2025-03-10T16:34:45.038991Z",
     "start_time": "2025-03-10T16:34:45.036163Z"
    }
   },
   "cell_type": "code",
   "source": "nodeCoords",
   "id": "fab526a79523830",
   "outputs": [
    {
     "data": {
      "text/plain": [
       "array([0.00775194, 0.00775194, 0.        , ..., 0.        , 1.        ,\n",
       "       0.003     ])"
      ]
     },
     "execution_count": 29,
     "metadata": {},
     "output_type": "execute_result"
    }
   ],
   "execution_count": 29
  },
  {
   "metadata": {
    "ExecuteTime": {
     "end_time": "2025-03-10T16:34:45.090132Z",
     "start_time": "2025-03-10T16:34:45.087344Z"
    }
   },
   "cell_type": "code",
   "source": "nodeCoords.shape[0]/3",
   "id": "21b3498b4b207641",
   "outputs": [
    {
     "data": {
      "text/plain": [
       "101400.0"
      ]
     },
     "execution_count": 30,
     "metadata": {},
     "output_type": "execute_result"
    }
   ],
   "execution_count": 30
  },
  {
   "cell_type": "code",
   "id": "4da6a814-0ea3-4f8f-8480-a279b1c85d47",
   "metadata": {
    "ExecuteTime": {
     "end_time": "2025-03-10T16:34:45.140279Z",
     "start_time": "2025-03-10T16:34:45.137631Z"
    }
   },
   "source": [
    "nodeCoords.resize((nodeCoords.shape[0]//3,3))\n",
    "nodeCoords"
   ],
   "outputs": [
    {
     "data": {
      "text/plain": [
       "array([[0.00775194, 0.00775194, 0.        ],\n",
       "       [0.00775194, 0.01550388, 0.        ],\n",
       "       [0.00775194, 0.02325581, 0.        ],\n",
       "       ...,\n",
       "       [1.        , 0.        , 0.003     ],\n",
       "       [1.        , 1.        , 0.003     ],\n",
       "       [0.        , 1.        , 0.003     ]])"
      ]
     },
     "execution_count": 31,
     "metadata": {},
     "output_type": "execute_result"
    }
   ],
   "execution_count": 31
  },
  {
   "cell_type": "code",
   "id": "87059d75-5150-4306-9ddd-22ae3e8c3d46",
   "metadata": {
    "ExecuteTime": {
     "end_time": "2025-03-10T16:34:45.164292Z",
     "start_time": "2025-03-10T16:34:45.162013Z"
    }
   },
   "source": [
    "NodesData = np.hstack((nodeTags[:,np.newaxis],nodeCoords))"
   ],
   "outputs": [],
   "execution_count": 32
  },
  {
   "cell_type": "code",
   "id": "5cc0dd61-cbc7-4307-a8b0-576ebd842703",
   "metadata": {
    "ExecuteTime": {
     "end_time": "2025-03-10T16:34:45.186089Z",
     "start_time": "2025-03-10T16:34:45.183593Z"
    }
   },
   "source": [
    "NodesData"
   ],
   "outputs": [
    {
     "data": {
      "text/plain": [
       "array([[2.06500000e+03, 7.75193798e-03, 7.75193798e-03, 0.00000000e+00],\n",
       "       [2.06600000e+03, 7.75193798e-03, 1.55038760e-02, 0.00000000e+00],\n",
       "       [2.06700000e+03, 7.75193798e-03, 2.32558140e-02, 0.00000000e+00],\n",
       "       ...,\n",
       "       [1.40000000e+01, 1.00000000e+00, 0.00000000e+00, 3.00000000e-03],\n",
       "       [1.50000000e+01, 1.00000000e+00, 1.00000000e+00, 3.00000000e-03],\n",
       "       [1.60000000e+01, 0.00000000e+00, 1.00000000e+00, 3.00000000e-03]])"
      ]
     },
     "execution_count": 33,
     "metadata": {},
     "output_type": "execute_result"
    }
   ],
   "execution_count": 33
  },
  {
   "cell_type": "code",
   "id": "403ba642-e111-49e5-b498-158f0d367281",
   "metadata": {
    "ExecuteTime": {
     "end_time": "2025-03-10T16:34:45.644102Z",
     "start_time": "2025-03-10T16:34:45.241465Z"
    }
   },
   "source": [
    "gmsh.option.setNumber(\"Mesh.SaveAll\", 1)\n",
    "gmsh.option.setNumber(\"Mesh.SaveGroupsOfNodes\", 1)\n",
    "\n",
    "gmsh.option.setNumber(\"Mesh.Format\", 1)\n",
    "gmsh.write(os.path.join(FPath,FName0+\".msh\"))\n",
    "\n",
    "gmsh.option.setNumber(\"Mesh.Format\", 27)\n",
    "gmsh.write(os.path.join(FPath,FName0+\".stl\"))"
   ],
   "outputs": [
    {
     "name": "stdout",
     "output_type": "stream",
     "text": [
      "Info    : Writing '/Users/collapsor/PycharmProjects/Taichi_project/Results/Model_1_GMSH_OCC_A_1.0_B_1.0_N_3_Nx_128_Ny_128_Nz_1/Model_1_GMSH_OCC_A_1.0_B_1.0_N_3_Nx_128_Ny_128_Nz_1.msh'...\n",
      "Info    : Done writing '/Users/collapsor/PycharmProjects/Taichi_project/Results/Model_1_GMSH_OCC_A_1.0_B_1.0_N_3_Nx_128_Ny_128_Nz_1/Model_1_GMSH_OCC_A_1.0_B_1.0_N_3_Nx_128_Ny_128_Nz_1.msh'\n",
      "Info    : Writing '/Users/collapsor/PycharmProjects/Taichi_project/Results/Model_1_GMSH_OCC_A_1.0_B_1.0_N_3_Nx_128_Ny_128_Nz_1/Model_1_GMSH_OCC_A_1.0_B_1.0_N_3_Nx_128_Ny_128_Nz_1.stl'...\n",
      "Info    : Done writing '/Users/collapsor/PycharmProjects/Taichi_project/Results/Model_1_GMSH_OCC_A_1.0_B_1.0_N_3_Nx_128_Ny_128_Nz_1/Model_1_GMSH_OCC_A_1.0_B_1.0_N_3_Nx_128_Ny_128_Nz_1.stl'\n"
     ]
    }
   ],
   "execution_count": 34
  },
  {
   "cell_type": "code",
   "id": "be6780a2-0b5b-48dd-a3ac-fb2cebee4e4e",
   "metadata": {
    "ExecuteTime": {
     "end_time": "2025-03-10T16:34:45.663919Z",
     "start_time": "2025-03-10T16:34:45.662641Z"
    }
   },
   "source": [],
   "outputs": [],
   "execution_count": null
  },
  {
   "cell_type": "code",
   "id": "cb9427ba-6fdd-4816-b8c6-785d116bc136",
   "metadata": {
    "ExecuteTime": {
     "end_time": "2025-03-10T16:34:45.697195Z",
     "start_time": "2025-03-10T16:34:45.693942Z"
    }
   },
   "source": [
    "NodesData_pl = pl.dataframe.DataFrame(NodesData,schema=[('Node',int),('X',float),('Y',float),('Z',float)])"
   ],
   "outputs": [],
   "execution_count": 35
  },
  {
   "cell_type": "code",
   "id": "83153a78-8658-4ec4-be46-3f0704d56cdc",
   "metadata": {
    "ExecuteTime": {
     "end_time": "2025-03-10T16:34:45.735237Z",
     "start_time": "2025-03-10T16:34:45.732185Z"
    }
   },
   "source": [
    "NodesData_pl"
   ],
   "outputs": [
    {
     "data": {
      "text/plain": [
       "shape: (101_400, 4)\n",
       "┌──────┬──────────┬──────────┬───────┐\n",
       "│ Node ┆ X        ┆ Y        ┆ Z     │\n",
       "│ ---  ┆ ---      ┆ ---      ┆ ---   │\n",
       "│ i64  ┆ f64      ┆ f64      ┆ f64   │\n",
       "╞══════╪══════════╪══════════╪═══════╡\n",
       "│ 2065 ┆ 0.007752 ┆ 0.007752 ┆ 0.0   │\n",
       "│ 2066 ┆ 0.007752 ┆ 0.015504 ┆ 0.0   │\n",
       "│ 2067 ┆ 0.007752 ┆ 0.023256 ┆ 0.0   │\n",
       "│ 2068 ┆ 0.007752 ┆ 0.031008 ┆ 0.0   │\n",
       "│ 2069 ┆ 0.007752 ┆ 0.03876  ┆ 0.0   │\n",
       "│ …    ┆ …        ┆ …        ┆ …     │\n",
       "│ 12   ┆ 0.0      ┆ 1.0      ┆ 0.002 │\n",
       "│ 13   ┆ 0.0      ┆ 0.0      ┆ 0.003 │\n",
       "│ 14   ┆ 1.0      ┆ 0.0      ┆ 0.003 │\n",
       "│ 15   ┆ 1.0      ┆ 1.0      ┆ 0.003 │\n",
       "│ 16   ┆ 0.0      ┆ 1.0      ┆ 0.003 │\n",
       "└──────┴──────────┴──────────┴───────┘"
      ],
      "text/html": [
       "<div><style>\n",
       ".dataframe > thead > tr,\n",
       ".dataframe > tbody > tr {\n",
       "  text-align: right;\n",
       "  white-space: pre-wrap;\n",
       "}\n",
       "</style>\n",
       "<small>shape: (101_400, 4)</small><table border=\"1\" class=\"dataframe\"><thead><tr><th>Node</th><th>X</th><th>Y</th><th>Z</th></tr><tr><td>i64</td><td>f64</td><td>f64</td><td>f64</td></tr></thead><tbody><tr><td>2065</td><td>0.007752</td><td>0.007752</td><td>0.0</td></tr><tr><td>2066</td><td>0.007752</td><td>0.015504</td><td>0.0</td></tr><tr><td>2067</td><td>0.007752</td><td>0.023256</td><td>0.0</td></tr><tr><td>2068</td><td>0.007752</td><td>0.031008</td><td>0.0</td></tr><tr><td>2069</td><td>0.007752</td><td>0.03876</td><td>0.0</td></tr><tr><td>&hellip;</td><td>&hellip;</td><td>&hellip;</td><td>&hellip;</td></tr><tr><td>12</td><td>0.0</td><td>1.0</td><td>0.002</td></tr><tr><td>13</td><td>0.0</td><td>0.0</td><td>0.003</td></tr><tr><td>14</td><td>1.0</td><td>0.0</td><td>0.003</td></tr><tr><td>15</td><td>1.0</td><td>1.0</td><td>0.003</td></tr><tr><td>16</td><td>0.0</td><td>1.0</td><td>0.003</td></tr></tbody></table></div>"
      ]
     },
     "execution_count": 36,
     "metadata": {},
     "output_type": "execute_result"
    }
   ],
   "execution_count": 36
  },
  {
   "metadata": {
    "ExecuteTime": {
     "end_time": "2025-03-10T16:34:45.772954Z",
     "start_time": "2025-03-10T16:34:45.770663Z"
    }
   },
   "cell_type": "code",
   "source": "NodesData_pl.shape,type(NodesData_pl)",
   "id": "20abb915d19a5748",
   "outputs": [
    {
     "data": {
      "text/plain": [
       "((101400, 4), polars.dataframe.frame.DataFrame)"
      ]
     },
     "execution_count": 37,
     "metadata": {},
     "output_type": "execute_result"
    }
   ],
   "execution_count": 37
  },
  {
   "metadata": {
    "ExecuteTime": {
     "end_time": "2025-03-10T16:34:45.814958Z",
     "start_time": "2025-03-10T16:34:45.812440Z"
    }
   },
   "cell_type": "code",
   "source": "NodesData_pl[0][\"X\"][0]\n",
   "id": "90f507070262c8ce",
   "outputs": [
    {
     "data": {
      "text/plain": [
       "0.007751937984496138"
      ]
     },
     "execution_count": 38,
     "metadata": {},
     "output_type": "execute_result"
    }
   ],
   "execution_count": 38
  },
  {
   "metadata": {
    "ExecuteTime": {
     "end_time": "2025-03-10T16:34:45.872302Z",
     "start_time": "2025-03-10T16:34:45.870009Z"
    }
   },
   "cell_type": "code",
   "source": "NodesData_pl[\"X\"][0]",
   "id": "2b5dd1b5ece47352",
   "outputs": [
    {
     "data": {
      "text/plain": [
       "0.007751937984496138"
      ]
     },
     "execution_count": 39,
     "metadata": {},
     "output_type": "execute_result"
    }
   ],
   "execution_count": 39
  },
  {
   "metadata": {
    "ExecuteTime": {
     "end_time": "2025-03-10T16:34:45.970293Z",
     "start_time": "2025-03-10T16:34:45.966732Z"
    }
   },
   "cell_type": "code",
   "source": [
    "node_data = NodesData_pl.to_numpy()\n",
    "node_data"
   ],
   "id": "2bf58508dd34a22c",
   "outputs": [
    {
     "data": {
      "text/plain": [
       "array([[2.06500000e+03, 7.75193798e-03, 7.75193798e-03, 0.00000000e+00],\n",
       "       [2.06600000e+03, 7.75193798e-03, 1.55038760e-02, 0.00000000e+00],\n",
       "       [2.06700000e+03, 7.75193798e-03, 2.32558140e-02, 0.00000000e+00],\n",
       "       ...,\n",
       "       [1.40000000e+01, 1.00000000e+00, 0.00000000e+00, 3.00000000e-03],\n",
       "       [1.50000000e+01, 1.00000000e+00, 1.00000000e+00, 3.00000000e-03],\n",
       "       [1.60000000e+01, 0.00000000e+00, 1.00000000e+00, 3.00000000e-03]])"
      ]
     },
     "execution_count": 40,
     "metadata": {},
     "output_type": "execute_result"
    }
   ],
   "execution_count": 40
  },
  {
   "metadata": {
    "ExecuteTime": {
     "end_time": "2025-03-10T16:34:46.052898Z",
     "start_time": "2025-03-10T16:34:45.999898Z"
    }
   },
   "cell_type": "code",
   "source": [
    "node_data=np.unique(node_data, axis=0)\n",
    "node_data"
   ],
   "id": "42a862caa51f1461",
   "outputs": [
    {
     "data": {
      "text/plain": [
       "array([[1.00000000e+00, 0.00000000e+00, 0.00000000e+00, 0.00000000e+00],\n",
       "       [2.00000000e+00, 1.00000000e+00, 0.00000000e+00, 0.00000000e+00],\n",
       "       [3.00000000e+00, 1.00000000e+00, 1.00000000e+00, 0.00000000e+00],\n",
       "       ...,\n",
       "       [6.75980000e+04, 9.92248062e-01, 9.76744186e-01, 3.00000000e-03],\n",
       "       [6.75990000e+04, 9.92248062e-01, 9.84496124e-01, 3.00000000e-03],\n",
       "       [6.76000000e+04, 9.92248062e-01, 9.92248062e-01, 3.00000000e-03]])"
      ]
     },
     "execution_count": 41,
     "metadata": {},
     "output_type": "execute_result"
    }
   ],
   "execution_count": 41
  },
  {
   "metadata": {
    "ExecuteTime": {
     "end_time": "2025-03-10T16:34:46.089495Z",
     "start_time": "2025-03-10T16:34:46.087117Z"
    }
   },
   "cell_type": "code",
   "source": "node_data[node_data.shape[0]-1]",
   "id": "b490d3b60895752a",
   "outputs": [
    {
     "data": {
      "text/plain": [
       "array([6.76000000e+04, 9.92248062e-01, 9.92248062e-01, 3.00000000e-03])"
      ]
     },
     "execution_count": 42,
     "metadata": {},
     "output_type": "execute_result"
    }
   ],
   "execution_count": 42
  },
  {
   "metadata": {
    "ExecuteTime": {
     "end_time": "2025-03-10T16:34:46.141459Z",
     "start_time": "2025-03-10T16:34:46.139446Z"
    }
   },
   "cell_type": "code",
   "source": "node_data.shape",
   "id": "978df3c6ae15f722",
   "outputs": [
    {
     "data": {
      "text/plain": [
       "(67600, 4)"
      ]
     },
     "execution_count": 43,
     "metadata": {},
     "output_type": "execute_result"
    }
   ],
   "execution_count": 43
  },
  {
   "metadata": {
    "ExecuteTime": {
     "end_time": "2025-03-10T16:34:46.191614Z",
     "start_time": "2025-03-10T16:34:46.189264Z"
    }
   },
   "cell_type": "code",
   "source": [
    "import math\n",
    "math.sqrt(node_data.shape[0] // 4)"
   ],
   "id": "23e6e8b310963644",
   "outputs": [
    {
     "data": {
      "text/plain": [
       "130.0"
      ]
     },
     "execution_count": 44,
     "metadata": {},
     "output_type": "execute_result"
    }
   ],
   "execution_count": 44
  },
  {
   "metadata": {
    "ExecuteTime": {
     "end_time": "2025-03-10T16:34:47.549144Z",
     "start_time": "2025-03-10T16:34:46.231023Z"
    }
   },
   "cell_type": "code",
   "source": [
    "import taichi as ti\n",
    "ti.init(arch=ti.gpu ,kernel_profiler = True)"
   ],
   "id": "5b6021fa1232d4b6",
   "outputs": [
    {
     "name": "stdout",
     "output_type": "stream",
     "text": [
      "[Taichi] version 1.7.2, llvm 15.0.7, commit 0131dce9, osx, python 3.9.6\n"
     ]
    },
    {
     "name": "stderr",
     "output_type": "stream",
     "text": [
      "[I 03/10/25 19:34:47.342 13189431] [shell.py:_shell_pop_print@23] Graphical python shell detected, using wrapped sys.stdout\n"
     ]
    },
    {
     "name": "stdout",
     "output_type": "stream",
     "text": [
      "[Taichi] Starting on arch=metal\n"
     ]
    }
   ],
   "execution_count": 45
  },
  {
   "cell_type": "code",
   "id": "3f0edc48-ce57-4fef-bf70-a968573a75ab",
   "metadata": {
    "ExecuteTime": {
     "end_time": "2025-03-10T16:34:47.558550Z",
     "start_time": "2025-03-10T16:34:47.556844Z"
    }
   },
   "source": [
    "nodes = node_data[:, 0].astype(int)\n",
    "coordinates = node_data[:, 1:]"
   ],
   "outputs": [],
   "execution_count": 46
  },
  {
   "metadata": {
    "ExecuteTime": {
     "end_time": "2025-03-10T16:34:47.575311Z",
     "start_time": "2025-03-10T16:34:47.573050Z"
    }
   },
   "cell_type": "code",
   "source": "nodes",
   "id": "211a9457799dc431",
   "outputs": [
    {
     "data": {
      "text/plain": [
       "array([    1,     2,     3, ..., 67598, 67599, 67600])"
      ]
     },
     "execution_count": 47,
     "metadata": {},
     "output_type": "execute_result"
    }
   ],
   "execution_count": 47
  },
  {
   "metadata": {
    "ExecuteTime": {
     "end_time": "2025-03-10T16:34:47.600705Z",
     "start_time": "2025-03-10T16:34:47.598335Z"
    }
   },
   "cell_type": "code",
   "source": "coordinates",
   "id": "e17287d81cd4e8dc",
   "outputs": [
    {
     "data": {
      "text/plain": [
       "array([[0.        , 0.        , 0.        ],\n",
       "       [1.        , 0.        , 0.        ],\n",
       "       [1.        , 1.        , 0.        ],\n",
       "       ...,\n",
       "       [0.99224806, 0.97674419, 0.003     ],\n",
       "       [0.99224806, 0.98449612, 0.003     ],\n",
       "       [0.99224806, 0.99224806, 0.003     ]])"
      ]
     },
     "execution_count": 48,
     "metadata": {},
     "output_type": "execute_result"
    }
   ],
   "execution_count": 48
  },
  {
   "metadata": {
    "ExecuteTime": {
     "end_time": "2025-03-10T16:34:47.638958Z",
     "start_time": "2025-03-10T16:34:47.636677Z"
    }
   },
   "cell_type": "code",
   "source": "coordinates[:10]",
   "id": "e33b3e69300407b2",
   "outputs": [
    {
     "data": {
      "text/plain": [
       "array([[0.   , 0.   , 0.   ],\n",
       "       [1.   , 0.   , 0.   ],\n",
       "       [1.   , 1.   , 0.   ],\n",
       "       [0.   , 1.   , 0.   ],\n",
       "       [0.   , 0.   , 0.001],\n",
       "       [1.   , 0.   , 0.001],\n",
       "       [1.   , 1.   , 0.001],\n",
       "       [0.   , 1.   , 0.001],\n",
       "       [0.   , 0.   , 0.002],\n",
       "       [1.   , 0.   , 0.002]])"
      ]
     },
     "execution_count": 49,
     "metadata": {},
     "output_type": "execute_result"
    }
   ],
   "execution_count": 49
  },
  {
   "metadata": {
    "ExecuteTime": {
     "end_time": "2025-03-10T16:34:47.689804Z",
     "start_time": "2025-03-10T16:34:47.687427Z"
    }
   },
   "cell_type": "code",
   "source": "nodes.shape",
   "id": "8f60d7a25d28b57b",
   "outputs": [
    {
     "data": {
      "text/plain": [
       "(67600,)"
      ]
     },
     "execution_count": 50,
     "metadata": {},
     "output_type": "execute_result"
    }
   ],
   "execution_count": 50
  },
  {
   "metadata": {
    "ExecuteTime": {
     "end_time": "2025-03-10T16:34:47.740941Z",
     "start_time": "2025-03-10T16:34:47.735525Z"
    }
   },
   "cell_type": "code",
   "source": [
    "num_nodes = nodes.shape[0]\n",
    "X = ti.field(dtype=ti.f32, shape=num_nodes)\n",
    "Y = ti.field(dtype=ti.f32, shape=num_nodes)\n",
    "Z = ti.field(dtype=ti.f32, shape=num_nodes)"
   ],
   "id": "7550ed5418256624",
   "outputs": [],
   "execution_count": 51
  },
  {
   "metadata": {
    "ExecuteTime": {
     "end_time": "2025-03-10T16:35:21.530290Z",
     "start_time": "2025-03-10T16:34:47.778453Z"
    }
   },
   "cell_type": "code",
   "source": [
    "for i in range(num_nodes):\n",
    "    X[i] = coordinates[i, 0]\n",
    "    Y[i] = coordinates[i, 1]\n",
    "    Z[i] = coordinates[i, 2] "
   ],
   "id": "94540aaaf4821c54",
   "outputs": [],
   "execution_count": 52
  },
  {
   "metadata": {
    "ExecuteTime": {
     "end_time": "2025-03-10T16:35:21.543429Z",
     "start_time": "2025-03-10T16:35:21.535626Z"
    }
   },
   "cell_type": "code",
   "source": "X[1],Y[1],Z[1]",
   "id": "bc5b67cf68abc24",
   "outputs": [
    {
     "data": {
      "text/plain": [
       "(1.0, 0.0, 0.0)"
      ]
     },
     "execution_count": 53,
     "metadata": {},
     "output_type": "execute_result"
    }
   ],
   "execution_count": 53
  },
  {
   "metadata": {
    "ExecuteTime": {
     "end_time": "2025-03-10T16:35:21.618927Z",
     "start_time": "2025-03-10T16:35:21.617237Z"
    }
   },
   "cell_type": "code",
   "source": "layer = 4",
   "id": "35f48a2bafcbf7b1",
   "outputs": [],
   "execution_count": 54
  },
  {
   "metadata": {
    "ExecuteTime": {
     "end_time": "2025-03-10T16:35:21.639826Z",
     "start_time": "2025-03-10T16:35:21.637724Z"
    }
   },
   "cell_type": "code",
   "source": [
    "import math\n",
    "n = math.sqrt(node_data.shape[0] // layer)\n",
    "n"
   ],
   "id": "9433b753b2faf52a",
   "outputs": [
    {
     "data": {
      "text/plain": [
       "130.0"
      ]
     },
     "execution_count": 55,
     "metadata": {},
     "output_type": "execute_result"
    }
   ],
   "execution_count": 55
  },
  {
   "metadata": {
    "ExecuteTime": {
     "end_time": "2025-03-10T16:35:21.721621Z",
     "start_time": "2025-03-10T16:35:21.719330Z"
    }
   },
   "cell_type": "code",
   "source": [
    "n= int(n)\n",
    "n"
   ],
   "id": "e3810646d4712bb3",
   "outputs": [
    {
     "data": {
      "text/plain": [
       "130"
      ]
     },
     "execution_count": 56,
     "metadata": {},
     "output_type": "execute_result"
    }
   ],
   "execution_count": 56
  },
  {
   "metadata": {
    "ExecuteTime": {
     "end_time": "2025-03-10T16:35:21.783754Z",
     "start_time": "2025-03-10T16:35:21.781605Z"
    }
   },
   "cell_type": "code",
   "source": [
    "@ti.func\n",
    "def get_index(i,j,k):\n",
    "    return k * n * n + j * n + i"
   ],
   "id": "f4e20152a50b8f27",
   "outputs": [],
   "execution_count": 57
  },
  {
   "metadata": {
    "ExecuteTime": {
     "end_time": "2025-03-10T16:35:21.809761Z",
     "start_time": "2025-03-10T16:35:21.800388Z"
    }
   },
   "cell_type": "code",
   "source": [
    "quad_size = 1.0 / n\n",
    "dt = 4e-2 / n\n",
    "substeps = int(1 / 60 // dt)  \n",
    "\n",
    "gravity = ti.Vector([0, -9.8, 0])\n",
    "spring_Y = 3e4\n",
    "dashpot_damping = 1e4\n",
    "drag_damping = 1\n",
    "\n",
    "ball_radius = 0.3\n",
    "ball_center = ti.Vector.field(3, dtype=float, shape=(1, ))\n",
    "ball_center[0] = [0, 0, 0]"
   ],
   "id": "9a05bc72d37d273f",
   "outputs": [],
   "execution_count": 58
  },
  {
   "cell_type": "code",
   "id": "1b28287a-6427-492c-820c-f834657ada1d",
   "metadata": {
    "ExecuteTime": {
     "end_time": "2025-03-10T16:35:21.822880Z",
     "start_time": "2025-03-10T16:35:21.819303Z"
    }
   },
   "source": [
    "x = ti.Vector.field(3, dtype=float, shape= (n,n,layer))\n",
    "v = ti.Vector.field(3, dtype=float, shape= (n,n,layer))"
   ],
   "outputs": [],
   "execution_count": 59
  },
  {
   "metadata": {
    "ExecuteTime": {
     "end_time": "2025-03-10T16:35:21.834845Z",
     "start_time": "2025-03-10T16:35:21.832532Z"
    }
   },
   "cell_type": "code",
   "source": [
    "h = H[0]\n",
    "h"
   ],
   "id": "8492ec42e5ccedeb",
   "outputs": [
    {
     "data": {
      "text/plain": [
       "np.float64(0.001)"
      ]
     },
     "execution_count": 60,
     "metadata": {},
     "output_type": "execute_result"
    }
   ],
   "execution_count": 60
  },
  {
   "metadata": {
    "ExecuteTime": {
     "end_time": "2025-03-10T16:35:21.849944Z",
     "start_time": "2025-03-10T16:35:21.848Z"
    }
   },
   "cell_type": "code",
   "source": [
    "@ti.func\n",
    "def rearrange(x):\n",
    "    return x * (1 + ti.sin(x))\n",
    "    # return ti.sin(x) + x"
   ],
   "id": "712969c042cd6f35",
   "outputs": [],
   "execution_count": 61
  },
  {
   "metadata": {
    "ExecuteTime": {
     "end_time": "2025-03-10T16:35:21.871515Z",
     "start_time": "2025-03-10T16:35:21.868492Z"
    }
   },
   "cell_type": "code",
   "source": [
    "@ti.kernel\n",
    "def initialize_mass_points():\n",
    "    for idx in range(num_nodes):\n",
    "        node_x, node_y, node_z = X[idx], Y[idx], Z[idx]\n",
    "\n",
    "        k = int(ti.round(node_z / h))  \n",
    "        j = int(node_y // (1.0 / n))\n",
    "        i = int(node_x // (1.0 / n))\n",
    "\n",
    "        k = min(max(k, 0), layer-1)\n",
    "        j = min(max(j, 0), n - 1)\n",
    "        i = min(max(i, 0), n - 1)\n",
    "\n",
    "        x[i, j, k] = ti.Vector([\n",
    "            rearrange(node_x - 0.5) -0.2,\n",
    "            node_z * 3 + 0.6,\n",
    "            rearrange(node_y - 0.5) -0.2\n",
    "        ]) \n",
    "        v[i, j, k] = ti.Vector([0.0, 0.0, 0.0])"
   ],
   "id": "66f0f2a9-b301-4d9f-bca8-ddd0250e1580",
   "outputs": [],
   "execution_count": 62
  },
  {
   "metadata": {
    "ExecuteTime": {
     "end_time": "2025-03-10T16:35:21.940470Z",
     "start_time": "2025-03-10T16:35:21.874716Z"
    }
   },
   "cell_type": "code",
   "source": "initialize_mass_points()",
   "id": "bd2f3ea530373f26",
   "outputs": [],
   "execution_count": 63
  },
  {
   "metadata": {
    "ExecuteTime": {
     "end_time": "2025-03-10T16:35:21.961262Z",
     "start_time": "2025-03-10T16:35:21.950358Z"
    }
   },
   "cell_type": "code",
   "source": [
    "x_numpy = x.to_numpy()\n",
    "print(\"size:\",x_numpy[0].shape)\n",
    "print(x_numpy[0])"
   ],
   "id": "be3ae22d2ec39291",
   "outputs": [
    {
     "name": "stdout",
     "output_type": "stream",
     "text": [
      "size: (130, 4, 3)\n",
      "[[[-0.4602872   0.6        -0.4602872 ]\n",
      "  [-0.4602872   0.60300004 -0.4602872 ]\n",
      "  [-0.4602872   0.606      -0.4602872 ]\n",
      "  [-0.4602872   0.609      -0.4602872 ]]\n",
      "\n",
      " [[-0.4602872   0.6        -0.4596076 ]\n",
      "  [-0.4602872   0.60300004 -0.4596076 ]\n",
      "  [-0.4602872   0.606      -0.4596076 ]\n",
      "  [-0.4602872   0.609      -0.4596076 ]]\n",
      "\n",
      " [[-0.4602872   0.6        -0.458836  ]\n",
      "  [-0.4602872   0.60300004 -0.458836  ]\n",
      "  [-0.4602872   0.606      -0.458836  ]\n",
      "  [-0.4602872   0.609      -0.458836  ]]\n",
      "\n",
      " ...\n",
      "\n",
      " [[-0.4602872   0.6         0.5101562 ]\n",
      "  [-0.4602872   0.60300004  0.5101562 ]\n",
      "  [-0.4602872   0.606       0.5101562 ]\n",
      "  [-0.4602872   0.609       0.5101562 ]]\n",
      "\n",
      " [[-0.4602872   0.6         0.5248885 ]\n",
      "  [-0.4602872   0.60300004  0.5248885 ]\n",
      "  [-0.4602872   0.606       0.5248885 ]\n",
      "  [-0.4602872   0.609       0.5248885 ]]\n",
      "\n",
      " [[-0.4602872   0.6         0.5397128 ]\n",
      "  [-0.4602872   0.60300004  0.5397128 ]\n",
      "  [-0.4602872   0.606       0.5397128 ]\n",
      "  [-0.4602872   0.609       0.5397128 ]]]\n"
     ]
    }
   ],
   "execution_count": 64
  },
  {
   "metadata": {
    "ExecuteTime": {
     "end_time": "2025-03-10T16:35:21.974284Z",
     "start_time": "2025-03-10T16:35:21.971839Z"
    }
   },
   "cell_type": "code",
   "source": "x_numpy[0][129]",
   "id": "435197feba915a9d",
   "outputs": [
    {
     "data": {
      "text/plain": [
       "array([[-0.4602872 ,  0.6       ,  0.5397128 ],\n",
       "       [-0.4602872 ,  0.60300004,  0.5397128 ],\n",
       "       [-0.4602872 ,  0.606     ,  0.5397128 ],\n",
       "       [-0.4602872 ,  0.609     ,  0.5397128 ]], dtype=float32)"
      ]
     },
     "execution_count": 65,
     "metadata": {},
     "output_type": "execute_result"
    }
   ],
   "execution_count": 65
  },
  {
   "metadata": {
    "ExecuteTime": {
     "end_time": "2025-03-10T16:35:22.007426Z",
     "start_time": "2025-03-10T16:35:22.003082Z"
    }
   },
   "cell_type": "code",
   "source": [
    "num_triangles = (n - 1) * (n - 1) * 2 * layer\n",
    "indices = ti.field(int, shape=num_triangles * 3)\n",
    "vertices = ti.Vector.field(3, dtype=float, shape=n * n * layer)\n",
    "colors = ti.Vector.field(3, dtype=float, shape=n * n * layer)"
   ],
   "id": "73cf730471b6b9cd",
   "outputs": [],
   "execution_count": 66
  },
  {
   "metadata": {
    "ExecuteTime": {
     "end_time": "2025-03-10T16:35:22.040669Z",
     "start_time": "2025-03-10T16:35:22.037070Z"
    }
   },
   "cell_type": "code",
   "source": [
    "@ti.kernel\n",
    "def initialize_mesh_indices():\n",
    "    for i, j, k in ti.ndrange(n - 1, n - 1, layer):\n",
    "        quad_id = (k * (n - 1) * (n - 1)) + (i * (n - 1)) + j \n",
    "        \n",
    "        base_index = k * n * n  \n",
    "        \n",
    "        indices[quad_id * 6 + 0] = base_index + i * n + j\n",
    "        indices[quad_id * 6 + 1] = base_index + (i + 1) * n + j\n",
    "        indices[quad_id * 6 + 2] = base_index + i * n + (j + 1)\n",
    "        \n",
    "  \n",
    "        indices[quad_id * 6 + 3] = base_index + (i + 1) * n + j + 1\n",
    "        indices[quad_id * 6 + 4] = base_index + i * n + (j + 1)\n",
    "        indices[quad_id * 6 + 5] = base_index + (i + 1) * n + j\n",
    "\n",
    "    for i, j, k in ti.ndrange(n, n, layer):\n",
    "        idx = k * n * n + i * n + j\n",
    "        if (i // 4 + j // 4 + k) % 2 == 0: \n",
    "            colors[idx] = (0.22, 0.72, 0.52)  \n",
    "        else:\n",
    "            colors[idx] = (1, 0.334, 0.52)"
   ],
   "id": "dabb5a6565bda581",
   "outputs": [],
   "execution_count": 67
  },
  {
   "metadata": {
    "ExecuteTime": {
     "end_time": "2025-03-10T16:35:22.085152Z",
     "start_time": "2025-03-10T16:35:22.067730Z"
    }
   },
   "cell_type": "code",
   "source": "initialize_mesh_indices()",
   "id": "f4f82d88634c4999",
   "outputs": [],
   "execution_count": 68
  },
  {
   "metadata": {
    "ExecuteTime": {
     "end_time": "2025-03-10T16:35:22.098447Z",
     "start_time": "2025-03-10T16:35:22.096792Z"
    }
   },
   "cell_type": "code",
   "source": "bending_springs = 2",
   "id": "54b12abe6fa2ecd5",
   "outputs": [],
   "execution_count": 69
  },
  {
   "metadata": {
    "ExecuteTime": {
     "end_time": "2025-03-10T16:35:22.112366Z",
     "start_time": "2025-03-10T16:35:22.109339Z"
    }
   },
   "cell_type": "code",
   "source": [
    "spring_offsets = []\n",
    "if bending_springs == 1:\n",
    "    for i in range(-1, 2):\n",
    "        for j in range(-1, 2):\n",
    "            for k in range(-1, 2):\n",
    "                if (i, j, k) != (0, 0, 0):\n",
    "                    spring_offsets.append(ti.Vector([i,j, k]))\n",
    "elif bending_springs == 2:\n",
    "    for i in range(-1, 2):\n",
    "        for j in range(-1, 2):\n",
    "            if (i, j) != (0, 0):\n",
    "                spring_offsets.append(ti.Vector([i,j,0]))\n",
    "elif bending_springs == 3:\n",
    "    for i in range(-2, 3):\n",
    "        for j in range(-2, 3):\n",
    "            if (i, j) != (0, 0) and abs(i) + abs(j) <= 2:\n",
    "                spring_offsets.append(ti.Vector([i, j]))"
   ],
   "id": "5bdec1d4fe18d533",
   "outputs": [],
   "execution_count": 70
  },
  {
   "metadata": {
    "ExecuteTime": {
     "end_time": "2025-03-10T16:35:22.126078Z",
     "start_time": "2025-03-10T16:35:22.123605Z"
    }
   },
   "cell_type": "code",
   "source": "spring_offsets",
   "id": "a1bb183ecb6c62a7",
   "outputs": [
    {
     "data": {
      "text/plain": [
       "[[-1 -1  0],\n",
       " [-1  0  0],\n",
       " [-1  1  0],\n",
       " [ 0 -1  0],\n",
       " [0 1 0],\n",
       " [ 1 -1  0],\n",
       " [1 0 0],\n",
       " [1 1 0]]"
      ]
     },
     "execution_count": 71,
     "metadata": {},
     "output_type": "execute_result"
    }
   ],
   "execution_count": 71
  },
  {
   "metadata": {
    "ExecuteTime": {
     "end_time": "2025-03-10T16:35:22.149071Z",
     "start_time": "2025-03-10T16:35:22.147343Z"
    }
   },
   "cell_type": "code",
   "source": [
    "spring_Y = 3e4\n",
    "spring_Y_z = 1e4\n",
    "\n",
    "dashpot_damping = 1e4\n",
    "dashpot_damping_z = 5e3 \n",
    "\n",
    "drag_damping = 1.0  # 阻力"
   ],
   "id": "c17206a6a7a1a717",
   "outputs": [],
   "execution_count": 72
  },
  {
   "metadata": {
    "ExecuteTime": {
     "end_time": "2025-03-10T16:35:22.157813Z",
     "start_time": "2025-03-10T16:35:22.153811Z"
    }
   },
   "cell_type": "code",
   "source": [
    "@ti.kernel\n",
    "def substep():\n",
    "    for i in ti.grouped(x):\n",
    "        v[i] += gravity * dt\n",
    "\n",
    "    for i in ti.grouped(x):\n",
    "        force = ti.Vector([0.0, 0.0, 0.0])\n",
    "        for spring_offset in ti.static(spring_offsets):\n",
    "            j = i + spring_offset\n",
    "            if 0 <= j[0] < n and 0 <= j[1] < n and 0 <= j[2] < layer:\n",
    "                x_ij = x[i] - x[j]\n",
    "                v_ij = v[i] - v[j]\n",
    "                d = x_ij.normalized()\n",
    "                current_dist = x_ij.norm()\n",
    "                original_dist = quad_size * float(spring_offset.norm())\n",
    "                force += -spring_Y * d * (current_dist / original_dist - 1)\n",
    "                force += -v_ij.dot(d) * d * dashpot_damping * quad_size\n",
    "\n",
    "        v[i] += force * dt\n",
    "\n",
    "    for i in ti.grouped(x):\n",
    "        v[i] *= ti.exp(-drag_damping * dt)\n",
    "        offset_to_center = x[i] - ball_center[0]\n",
    "        if offset_to_center.norm() <= ball_radius:\n",
    "            normal = offset_to_center.normalized()\n",
    "            v[i] -= min(v[i].dot(normal), 0) * normal\n",
    "        x[i] += dt * v[i]\n",
    "\n",
    "# @ti.kernel\n",
    "# def substep():\n",
    "#     for i, j, k in ti.ndrange(n, n, layer):\n",
    "#         v[i, j, k] += gravity * dt \n",
    "# \n",
    "#     for i, j, k in ti.ndrange(n, n, layer):\n",
    "#         force = ti.Vector([0.0, 0.0, 0.0])\n",
    "# \n",
    "#         for spring_offset in ti.static(spring_offsets):\n",
    "#             ni, nj, nk = i + spring_offset[0], j + spring_offset[1], k + spring_offset[2]\n",
    "# \n",
    "#             # 确保索引在合法范围\n",
    "#             if 0 <= ni < n and 0 <= nj < n and 0 <= nk < layer:\n",
    "#                 x_ij = x[i, j, k] - x[ni, nj, nk]\n",
    "#                 v_ij = v[i, j, k] - v[ni, nj, nk]\n",
    "#                 current_dist = x_ij.norm()\n",
    "#                 original_dist = quad_size * float(spring_offset.norm())\n",
    "# \n",
    "#                 if original_dist > 0 and current_dist > 0:\n",
    "#                     d = x_ij / current_dist \n",
    "#                     stiffness = spring_Y if spring_offset.z == 0 else spring_Y_z\n",
    "#                     damping = dashpot_damping if spring_offset.z == 0 else dashpot_damping_z\n",
    "# \n",
    "#                     force += -stiffness * d * (current_dist / original_dist - 1)\n",
    "#                     force += -v_ij.dot(d) * d * damping * quad_size\n",
    "# \n",
    "#         v[i, j, k] += force * dt\n",
    "# \n",
    "#     for i, j, k in ti.ndrange(n, n, layer):\n",
    "#         v[i, j, k] *= ti.exp(-drag_damping * dt) \n",
    "# \n",
    "\n",
    "#         offset_to_center = x[i, j, k] - ball_center[0]\n",
    "#         if offset_to_center.norm() <= ball_radius:\n",
    "#             normal = offset_to_center.normalized()\n",
    "#             v[i, j, k] -= min(v[i, j, k].dot(normal), 0) * normal  # 反弹\n",
    "# \n",
    "#         x[i, j, k] += v[i, j, k] * dt "
   ],
   "id": "a02affbcc512b8d1",
   "outputs": [],
   "execution_count": 73
  },
  {
   "metadata": {
    "ExecuteTime": {
     "end_time": "2025-03-10T16:35:22.170289Z",
     "start_time": "2025-03-10T16:35:22.168369Z"
    }
   },
   "cell_type": "code",
   "source": [
    "@ti.kernel\n",
    "def update_vertices():\n",
    "    for i, j, k in ti.ndrange(n, n, layer): \n",
    "        node_index = get_index(i,j,k)\n",
    "        vertices[node_index] = x[i,j,k] "
   ],
   "id": "3cc936982a0ac212",
   "outputs": [],
   "execution_count": 74
  },
  {
   "metadata": {
    "ExecuteTime": {
     "end_time": "2025-03-10T16:35:22.181980Z",
     "start_time": "2025-03-10T16:35:22.180564Z"
    }
   },
   "cell_type": "code",
   "source": "current_n = 1",
   "id": "d2ecb4894a5f32fb",
   "outputs": [],
   "execution_count": 75
  },
  {
   "metadata": {
    "ExecuteTime": {
     "end_time": "2025-03-10T16:35:22.193825Z",
     "start_time": "2025-03-10T16:35:22.192297Z"
    }
   },
   "cell_type": "code",
   "source": [
    "current_t = 0.0\n",
    "initialize_mass_points()"
   ],
   "id": "722590acc6fe32ef",
   "outputs": [],
   "execution_count": 76
  },
  {
   "metadata": {
    "jupyter": {
     "is_executing": true
    },
    "ExecuteTime": {
     "start_time": "2025-03-10T16:35:36.623277Z"
    }
   },
   "cell_type": "code",
   "source": [
    "import time\n",
    "start_time = time.time()\n",
    "\n",
    "window = ti.ui.Window(\"Taichi Cloth Simulation on GGUI\", (1024, 1024),\n",
    "                      vsync=True)\n",
    "canvas = window.get_canvas()\n",
    "canvas.set_background_color((1, 1, 1))\n",
    "scene = window.get_scene()\n",
    "camera = ti.ui.Camera()\n",
    "\n",
    "while window.running and current_n <= 5:\n",
    "    if current_t > 1.5:\n",
    "        # Reset\n",
    "        initialize_mass_points()\n",
    "        current_t = 0\n",
    "        current_n += 1\n",
    "        # print(current_n)\n",
    "\n",
    "    for i in range(substeps):\n",
    "        substep()\n",
    "        current_t += dt\n",
    "    update_vertices()\n",
    "    \n",
    "    camera.position(0.0, 0.0, 3)\n",
    "    camera.lookat(0.0, 0.0, 0)\n",
    "    scene.set_camera(camera)\n",
    "\n",
    "    scene.point_light(pos=(0, 1, 2), color=(1, 1, 1))\n",
    "    scene.ambient_light((0.5, 0.5, 0.5))\n",
    "    scene.mesh(vertices,\n",
    "               indices=indices,\n",
    "               per_vertex_color=colors,\n",
    "               two_sided=True)\n",
    "\n",
    "\n",
    "    scene.particles(ball_center, radius=ball_radius * 0.95, color=(0.5, 0.42, 0.8))\n",
    "    canvas.scene(scene)\n",
    "    window.show()\n",
    "    \n",
    "    \n",
    "end_time = time.time()\n",
    "print(\"Elapsed time:\", end_time - start_time)\n",
    "\n",
    "# window.close()"
   ],
   "id": "187ba442ec0cd436",
   "outputs": [],
   "execution_count": null
  },
  {
   "metadata": {
    "ExecuteTime": {
     "end_time": "2025-03-10T16:35:23.603336Z",
     "start_time": "2025-03-10T16:35:23.602071Z"
    }
   },
   "cell_type": "code",
   "source": "",
   "id": "e924b7a77165f031",
   "outputs": [],
   "execution_count": null
  },
  {
   "metadata": {
    "ExecuteTime": {
     "end_time": "2025-03-10T16:35:23.625682Z",
     "start_time": "2025-03-10T16:35:23.624401Z"
    }
   },
   "cell_type": "code",
   "source": "",
   "id": "3204bbc1990954b2",
   "outputs": [],
   "execution_count": null
  },
  {
   "metadata": {
    "ExecuteTime": {
     "end_time": "2025-03-10T16:35:23.639613Z",
     "start_time": "2025-03-10T16:35:23.638360Z"
    }
   },
   "cell_type": "code",
   "source": "",
   "id": "f099c9c47bd0e6bd",
   "outputs": [],
   "execution_count": null
  },
  {
   "metadata": {
    "ExecuteTime": {
     "end_time": "2025-03-10T16:35:23.652761Z",
     "start_time": "2025-03-10T16:35:23.651436Z"
    }
   },
   "cell_type": "code",
   "source": "",
   "id": "9cb9e3fc75405ab5",
   "outputs": [],
   "execution_count": null
  },
  {
   "metadata": {
    "ExecuteTime": {
     "end_time": "2025-03-10T16:35:23.665560Z",
     "start_time": "2025-03-10T16:35:23.664334Z"
    }
   },
   "cell_type": "code",
   "source": "",
   "id": "db5d138906896e5e",
   "outputs": [],
   "execution_count": null
  },
  {
   "metadata": {
    "ExecuteTime": {
     "end_time": "2025-03-10T16:35:23.682154Z",
     "start_time": "2025-03-10T16:35:23.680927Z"
    }
   },
   "cell_type": "code",
   "source": "",
   "id": "37be664674cec390",
   "outputs": [],
   "execution_count": null
  },
  {
   "metadata": {
    "ExecuteTime": {
     "end_time": "2025-03-10T16:35:23.695343Z",
     "start_time": "2025-03-10T16:35:23.694215Z"
    }
   },
   "cell_type": "code",
   "source": "",
   "id": "a8b84d35006ffe9c",
   "outputs": [],
   "execution_count": null
  }
 ],
 "metadata": {
  "kernelspec": {
   "display_name": "Python 3 (ipykernel)",
   "language": "python",
   "name": "python3"
  },
  "language_info": {
   "codemirror_mode": {
    "name": "ipython",
    "version": 3
   },
   "file_extension": ".py",
   "mimetype": "text/x-python",
   "name": "python",
   "nbconvert_exporter": "python",
   "pygments_lexer": "ipython3",
   "version": "3.11.7"
  }
 },
 "nbformat": 4,
 "nbformat_minor": 5
}
