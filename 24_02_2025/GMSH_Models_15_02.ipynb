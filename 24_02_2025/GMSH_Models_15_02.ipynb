{
 "cells": [
  {
   "cell_type": "code",
   "execution_count": 1,
   "id": "6a026543-47ba-4b0e-8d44-428b793220cf",
   "metadata": {
    "ExecuteTime": {
     "end_time": "2025-02-17T06:09:13.568525Z",
     "start_time": "2025-02-17T06:09:13.566798Z"
    }
   },
   "outputs": [],
   "source": [
    "# %run -m pip install numpy==1.26.4\n",
    "# %run -m pip install gmsh\n",
    "# %run -m pip install polars"
   ]
  },
  {
   "cell_type": "code",
   "id": "db2c505d-5a24-4fa9-840e-47f5d7dfa48a",
   "metadata": {
    "ExecuteTime": {
     "end_time": "2025-02-19T12:26:23.004946Z",
     "start_time": "2025-02-19T12:26:22.785692Z"
    }
   },
   "source": [
    "import numpy as np\n",
    "import gmsh\n",
    "import os, sys, shutil, glob\n",
    "import polars as pl"
   ],
   "outputs": [],
   "execution_count": 1
  },
  {
   "cell_type": "code",
   "id": "6ece0ad8-90fc-46f2-a241-389adf28a253",
   "metadata": {
    "ExecuteTime": {
     "end_time": "2025-02-19T12:26:27.521733Z",
     "start_time": "2025-02-19T12:26:27.518981Z"
    }
   },
   "source": [
    "# Размер пластины по оси Х, м\n",
    "A = 1.0\n",
    "# Размер пластины по оси У, м \n",
    "B = 1.0\n",
    "# Толщины слоев, м\n",
    "H = np.array([0.001,0.001,0.001])\n",
    "# Число слоев\n",
    "N = H.shape[0]\n",
    "# Число Элементов Сетки по осям X:Nx, Y:Ny и Z:Nz\n",
    "Nx = 50\n",
    "Ny = 50\n",
    "Nz = 1"
   ],
   "outputs": [],
   "execution_count": 2
  },
  {
   "cell_type": "code",
   "id": "63e643dc-8c82-468f-b329-65eb40d4d507",
   "metadata": {
    "ExecuteTime": {
     "end_time": "2025-02-19T12:30:30.254550Z",
     "start_time": "2025-02-19T12:30:30.250186Z"
    }
   },
   "source": [
    "Curr_Path = os.getcwd()\n",
    "print(Curr_Path)\n",
    "Results_Path = os.path.join(Curr_Path,'Results')\n",
    "print( Results_Path)\n",
    "os.makedirs(Results_Path,mode=0o777, exist_ok=True)\n",
    "\n",
    "FName0 = f\"Model_1_GMSH_OCC_A_{A}_B_{B}_N_{N}_Nx_{Nx}_Ny_{Ny}_Nz_{Nz}\"\n",
    "FPath = os.path.join(Results_Path,f\"Model_1_GMSH_OCC_A_{A}_B_{B}_N_{N}_Nx_{Nx}_Ny_{Ny}_Nz_{Nz}\")\n",
    "os.makedirs(FPath,mode=0o777, exist_ok=True)"
   ],
   "outputs": [
    {
     "name": "stdout",
     "output_type": "stream",
     "text": [
      "/Users/collapsor/PycharmProjects/Taichi_project\n",
      "/Users/collapsor/PycharmProjects/Taichi_project/Results\n"
     ]
    }
   ],
   "execution_count": 3
  },
  {
   "cell_type": "code",
   "id": "0352b14d-6d8a-4bba-8320-d8fc4a107363",
   "metadata": {
    "ExecuteTime": {
     "end_time": "2025-02-19T12:30:33.739684Z",
     "start_time": "2025-02-19T12:30:33.716661Z"
    }
   },
   "source": [
    "gmsh.initialize()"
   ],
   "outputs": [],
   "execution_count": 4
  },
  {
   "cell_type": "code",
   "id": "6d6f7cfe-0bff-406a-914a-425f99e2288c",
   "metadata": {
    "ExecuteTime": {
     "end_time": "2025-02-19T12:30:36.340909Z",
     "start_time": "2025-02-19T12:30:36.338626Z"
    }
   },
   "source": [
    "gmsh.model.add(\"Model_1_gmsh_occ\")"
   ],
   "outputs": [],
   "execution_count": 5
  },
  {
   "cell_type": "code",
   "id": "5dafd943-b8d2-41c8-9266-ca7583a50283",
   "metadata": {
    "ExecuteTime": {
     "end_time": "2025-02-19T12:32:59.159807Z",
     "start_time": "2025-02-19T12:32:59.154757Z"
    }
   },
   "source": [
    "ElSize = np.min([A/Nx,B/Ny])\n",
    "ElSize"
   ],
   "outputs": [
    {
     "data": {
      "text/plain": [
       "np.float64(0.02)"
      ]
     },
     "execution_count": 6,
     "metadata": {},
     "output_type": "execute_result"
    }
   ],
   "execution_count": 6
  },
  {
   "cell_type": "code",
   "id": "d32097e2-6e88-4f22-954f-72fdbf2dd527",
   "metadata": {
    "ExecuteTime": {
     "end_time": "2025-02-19T12:33:15.057854Z",
     "start_time": "2025-02-19T12:33:15.040890Z"
    }
   },
   "source": [
    "gmsh.model.occ.addRectangle(x=0,y=0,z=0,dx=A,dy=B,tag=1)"
   ],
   "outputs": [
    {
     "data": {
      "text/plain": [
       "1"
      ]
     },
     "execution_count": 7,
     "metadata": {},
     "output_type": "execute_result"
    }
   ],
   "execution_count": 7
  },
  {
   "cell_type": "code",
   "id": "f7768269-1cff-43b5-a9d4-61dede6bc47d",
   "metadata": {
    "ExecuteTime": {
     "end_time": "2025-02-19T12:59:05.839688Z",
     "start_time": "2025-02-19T12:59:05.829790Z"
    }
   },
   "source": [
    "gmsh.model.occ.synchronize()"
   ],
   "outputs": [],
   "execution_count": 8
  },
  {
   "cell_type": "code",
   "id": "76c9a5a2-b66e-490d-9d71-82cdf900cffe",
   "metadata": {
    "ExecuteTime": {
     "end_time": "2025-02-19T14:42:25.606038Z",
     "start_time": "2025-02-19T14:42:25.600763Z"
    }
   },
   "source": [
    "Surfaces = gmsh.model.occ.getEntities(dim=2)\n",
    "Surfaces"
   ],
   "outputs": [
    {
     "data": {
      "text/plain": [
       "[(2, 1)]"
      ]
     },
     "execution_count": 9,
     "metadata": {},
     "output_type": "execute_result"
    }
   ],
   "execution_count": 9
  },
  {
   "cell_type": "code",
   "id": "51d55bb2-d03f-4ea6-b146-5359666ace77",
   "metadata": {
    "ExecuteTime": {
     "end_time": "2025-02-19T15:04:43.997755Z",
     "start_time": "2025-02-19T15:04:43.990918Z"
    }
   },
   "source": [
    "Layer_mesh = gmsh.model.occ.extrude(dimTags=[(2, 1)], \n",
    "                                    dx=0, dy=0, dz=H[0], \n",
    "                                    numElements=[1], \n",
    "                                    heights=[1],\n",
    "                                    recombine=True)"
   ],
   "outputs": [],
   "execution_count": 10
  },
  {
   "cell_type": "code",
   "id": "781b9e9b-8ebf-4b8c-b962-aaa20dc86484",
   "metadata": {
    "ExecuteTime": {
     "end_time": "2025-02-19T15:19:25.621338Z",
     "start_time": "2025-02-19T15:14:22.392802Z"
    }
   },
   "source": [
    "gmsh.model.occ.synchronize()\n",
    "gmsh.fltk.run()"
   ],
   "outputs": [
    {
     "name": "stdout",
     "output_type": "stream",
     "text": [
      "-------------------------------------------------------\n",
      "Version       : 4.13.1\n",
      "License       : GNU General Public License\n",
      "Build OS      : MacOSARM-sdk\n",
      "Build date    : 20240524\n",
      "Build host    : gmsh.info\n",
      "Build options : 64Bit ALGLIB[contrib] ANN[contrib] Bamg Blas[petsc] Blossom Cgns DIntegration Dlopen DomHex Eigen[contrib] Fltk GMP Gmm[contrib] Hxt Jpeg Kbipack Lapack[petsc] MathEx[contrib] Med Mesh Metis[contrib] Mpeg Netgen Nii2mesh ONELAB ONELABMetamodel OpenCASCADE OpenCASCADE-CAF OpenGL OpenMP OptHom PETSc Parser Plugins Png Post QuadMeshingTools QuadTri Solver TetGen/BR TinyXML2[contrib] TouchBar Untangle Voro++[contrib] WinslowUntangler Zlib\n",
      "FLTK version  : 1.4.0\n",
      "PETSc version : 3.17.4 (real arithmtic)\n",
      "OCC version   : 7.7.2\n",
      "MED version   : 4.1.0\n",
      "Packaged by   : geuzaine\n",
      "Web site      : https://gmsh.info\n",
      "Issue tracker : https://gitlab.onelab.info/gmsh/gmsh/issues\n",
      "-------------------------------------------------------\n"
     ]
    },
    {
     "name": "stderr",
     "output_type": "stream",
     "text": [
      "2025-02-19 18:14:49.200 python[14674:612151] TSM AdjustCapsLockLEDForKeyTransitionHandling - _ISSetPhysicalKeyboardCapsLockLED Inhibit\n"
     ]
    }
   ],
   "execution_count": 16
  },
  {
   "cell_type": "code",
   "id": "152b562d-8ac5-4d69-86d2-52d276acbaa9",
   "metadata": {
    "ExecuteTime": {
     "end_time": "2025-02-19T15:05:06.845940Z",
     "start_time": "2025-02-19T15:05:06.843049Z"
    }
   },
   "source": [
    "Points = gmsh.model.occ.getEntities(dim=0)\n",
    "Points"
   ],
   "outputs": [
    {
     "data": {
      "text/plain": [
       "[(0, 1), (0, 2), (0, 3), (0, 4), (0, 5), (0, 6), (0, 7), (0, 8)]"
      ]
     },
     "execution_count": 12,
     "metadata": {},
     "output_type": "execute_result"
    }
   ],
   "execution_count": 12
  },
  {
   "cell_type": "code",
   "id": "a434580c-5475-4587-8d6f-7b8b5d20445a",
   "metadata": {
    "ExecuteTime": {
     "end_time": "2025-02-19T15:08:20.966245Z",
     "start_time": "2025-02-19T15:08:20.962389Z"
    }
   },
   "source": [
    "Layer_mesh #[0][0]"
   ],
   "outputs": [
    {
     "data": {
      "text/plain": [
       "[(2, 6), (3, 1), (2, 2), (2, 3), (2, 4), (2, 5)]"
      ]
     },
     "execution_count": 13,
     "metadata": {},
     "output_type": "execute_result"
    }
   ],
   "execution_count": 13
  },
  {
   "metadata": {
    "ExecuteTime": {
     "end_time": "2025-02-19T15:12:41.886962Z",
     "start_time": "2025-02-19T15:12:41.884136Z"
    }
   },
   "cell_type": "code",
   "source": "Layer_mesh[0][1]",
   "id": "d6433045440086ca",
   "outputs": [
    {
     "data": {
      "text/plain": [
       "6"
      ]
     },
     "execution_count": 15,
     "metadata": {},
     "output_type": "execute_result"
    }
   ],
   "execution_count": 15
  },
  {
   "cell_type": "code",
   "execution_count": null,
   "id": "c9abf747-53e3-4506-b5a0-971e67051702",
   "metadata": {},
   "outputs": [],
   "source": [
    "#gmsh.model.mesh.setSize([(Layer_mesh[0][0], Layer_mesh[0][1])], ElSize)"
   ]
  },
  {
   "cell_type": "code",
   "id": "48a450ea-cb17-4478-bca5-163eea7f2fa9",
   "metadata": {
    "ExecuteTime": {
     "end_time": "2025-02-19T15:20:43.975369Z",
     "start_time": "2025-02-19T15:20:43.439568Z"
    }
   },
   "source": [
    "for i in range(1,N):\n",
    "    #print(f\"Layer_{i+1}\")\n",
    "    Layer_mesh = gmsh.model.occ.extrude(dimTags=[Layer_mesh[0]], \n",
    "                                        dx=0, dy=0, dz=H[i], \n",
    "                                        numElements=[1], \n",
    "                                        heights=[1], \n",
    "                                        recombine=True)\n",
    "    gmsh.model.occ.synchronize()\n",
    "    #gmsh.model.mesh.setSize([(Layer_mesh[0][0], Layer_mesh[0][1])], ElSize)\n",
    "\n",
    "gmsh.model.occ.synchronize()\n",
    "gmsh.fltk.run()"
   ],
   "outputs": [
    {
     "name": "stdout",
     "output_type": "stream",
     "text": [
      "-------------------------------------------------------\n",
      "Version       : 4.13.1\n",
      "License       : GNU General Public License\n",
      "Build OS      : MacOSARM-sdk\n",
      "Build date    : 20240524\n",
      "Build host    : gmsh.info\n",
      "Build options : 64Bit ALGLIB[contrib] ANN[contrib] Bamg Blas[petsc] Blossom Cgns DIntegration Dlopen DomHex Eigen[contrib] Fltk GMP Gmm[contrib] Hxt Jpeg Kbipack Lapack[petsc] MathEx[contrib] Med Mesh Metis[contrib] Mpeg Netgen Nii2mesh ONELAB ONELABMetamodel OpenCASCADE OpenCASCADE-CAF OpenGL OpenMP OptHom PETSc Parser Plugins Png Post QuadMeshingTools QuadTri Solver TetGen/BR TinyXML2[contrib] TouchBar Untangle Voro++[contrib] WinslowUntangler Zlib\n",
      "FLTK version  : 1.4.0\n",
      "PETSc version : 3.17.4 (real arithmtic)\n",
      "OCC version   : 7.7.2\n",
      "MED version   : 4.1.0\n",
      "Packaged by   : geuzaine\n",
      "Web site      : https://gmsh.info\n",
      "Issue tracker : https://gitlab.onelab.info/gmsh/gmsh/issues\n",
      "-------------------------------------------------------\n"
     ]
    }
   ],
   "execution_count": 21
  },
  {
   "cell_type": "code",
   "id": "4e716c20-d529-4520-9818-5001a5b51ab0",
   "metadata": {
    "ExecuteTime": {
     "end_time": "2025-02-19T15:20:49.225121Z",
     "start_time": "2025-02-19T15:20:49.220573Z"
    }
   },
   "source": [
    "Points = gmsh.model.occ.getEntities(dim=0)\n",
    "Points"
   ],
   "outputs": [
    {
     "data": {
      "text/plain": [
       "[(0, 1),\n",
       " (0, 2),\n",
       " (0, 3),\n",
       " (0, 4),\n",
       " (0, 5),\n",
       " (0, 6),\n",
       " (0, 7),\n",
       " (0, 8),\n",
       " (0, 9),\n",
       " (0, 10),\n",
       " (0, 11),\n",
       " (0, 12),\n",
       " (0, 13),\n",
       " (0, 14),\n",
       " (0, 15),\n",
       " (0, 16),\n",
       " (0, 17),\n",
       " (0, 18),\n",
       " (0, 19),\n",
       " (0, 20),\n",
       " (0, 21),\n",
       " (0, 22),\n",
       " (0, 23),\n",
       " (0, 24),\n",
       " (0, 25),\n",
       " (0, 26),\n",
       " (0, 27),\n",
       " (0, 28),\n",
       " (0, 29),\n",
       " (0, 30),\n",
       " (0, 31),\n",
       " (0, 32),\n",
       " (0, 33),\n",
       " (0, 34),\n",
       " (0, 35),\n",
       " (0, 36),\n",
       " (0, 37),\n",
       " (0, 38),\n",
       " (0, 39),\n",
       " (0, 40),\n",
       " (0, 41),\n",
       " (0, 42),\n",
       " (0, 43),\n",
       " (0, 44),\n",
       " (0, 45),\n",
       " (0, 46),\n",
       " (0, 47),\n",
       " (0, 48)]"
      ]
     },
     "execution_count": 22,
     "metadata": {},
     "output_type": "execute_result"
    }
   ],
   "execution_count": 22
  },
  {
   "cell_type": "code",
   "id": "1660374c-7572-4ea3-8a9d-8a09e51808b2",
   "metadata": {
    "ExecuteTime": {
     "end_time": "2025-02-19T15:21:31.861916Z",
     "start_time": "2025-02-19T15:21:31.858817Z"
    }
   },
   "source": [
    "gmsh.model.mesh.setSize(Points, ElSize)"
   ],
   "outputs": [],
   "execution_count": 23
  },
  {
   "cell_type": "code",
   "id": "d3ea9926-372d-46de-8e67-b24a095ac4a0",
   "metadata": {
    "scrolled": true,
    "ExecuteTime": {
     "end_time": "2025-02-19T17:24:56.470678Z",
     "start_time": "2025-02-19T17:24:56.347770Z"
    }
   },
   "source": [
    "gmsh.model.mesh.setTransfiniteAutomatic(recombine=True)\n",
    "gmsh.option.setNumber(\"Mesh.Algorithm\", 1)\n",
    "gmsh.option.setNumber(\"Mesh.Algorithm3D\", 1)\n",
    "gmsh.option.setNumber(\"Mesh.OptimizeNetgen\", 1)\n",
    "gmsh.model.mesh.generate(3)"
   ],
   "outputs": [
    {
     "name": "stdout",
     "output_type": "stream",
     "text": [
      "Info    : Meshing 1D...\n",
      "Info    : [  0%] Meshing curve 1 (Line)\n",
      "Info    : [ 10%] Meshing curve 2 (Line)\n",
      "Info    : [ 10%] Meshing curve 3 (Line)\n",
      "Info    : [ 10%] Meshing curve 4 (Line)\n",
      "Info    : [ 10%] Meshing curve 5 (Extruded)\n",
      "Info    : [ 10%] Meshing curve 6 (Extruded)\n",
      "Info    : [ 10%] Meshing curve 7 (Extruded)\n",
      "Info    : [ 10%] Meshing curve 8 (Extruded)\n",
      "Info    : [ 10%] Meshing curve 9 (Extruded)\n",
      "Info    : [ 10%] Meshing curve 10 (Extruded)\n",
      "Info    : [ 20%] Meshing curve 11 (Extruded)\n",
      "Info    : [ 20%] Meshing curve 12 (Extruded)\n",
      "Info    : [ 20%] Meshing curve 13 (Extruded)\n",
      "Info    : [ 20%] Meshing curve 14 (Extruded)\n",
      "Info    : [ 20%] Meshing curve 15 (Extruded)\n",
      "Info    : [ 20%] Meshing curve 16 (Extruded)\n",
      "Info    : [ 20%] Meshing curve 17 (Extruded)\n",
      "Info    : [ 20%] Meshing curve 18 (Extruded)\n",
      "Info    : [ 20%] Meshing curve 19 (Extruded)\n",
      "Info    : [ 30%] Meshing curve 20 (Extruded)\n",
      "Info    : [ 30%] Meshing curve 21 (Extruded)\n",
      "Info    : [ 30%] Meshing curve 22 (Extruded)\n",
      "Info    : [ 30%] Meshing curve 23 (Extruded)\n",
      "Info    : [ 30%] Meshing curve 24 (Extruded)\n",
      "Info    : [ 30%] Meshing curve 25 (Extruded)\n",
      "Info    : [ 30%] Meshing curve 26 (Extruded)\n",
      "Info    : [ 30%] Meshing curve 27 (Extruded)\n",
      "Info    : [ 30%] Meshing curve 28 (Extruded)\n",
      "Info    : [ 40%] Meshing curve 29 (Extruded)\n",
      "Info    : [ 40%] Meshing curve 30 (Extruded)\n",
      "Info    : [ 40%] Meshing curve 31 (Extruded)\n",
      "Info    : [ 40%] Meshing curve 32 (Extruded)\n",
      "Info    : [ 40%] Meshing curve 33 (Extruded)\n",
      "Info    : [ 40%] Meshing curve 34 (Extruded)\n",
      "Info    : [ 40%] Meshing curve 35 (Extruded)\n",
      "Info    : [ 40%] Meshing curve 36 (Extruded)\n",
      "Info    : [ 40%] Meshing curve 37 (Extruded)\n",
      "Info    : [ 50%] Meshing curve 38 (Extruded)\n",
      "Info    : [ 50%] Meshing curve 39 (Extruded)\n",
      "Info    : [ 50%] Meshing curve 40 (Extruded)\n",
      "Info    : [ 50%] Meshing curve 41 (Extruded)\n",
      "Info    : [ 50%] Meshing curve 42 (Extruded)\n",
      "Info    : [ 50%] Meshing curve 43 (Extruded)\n",
      "Info    : [ 50%] Meshing curve 44 (Extruded)\n",
      "Info    : [ 50%] Meshing curve 45 (Extruded)\n",
      "Info    : [ 50%] Meshing curve 46 (Extruded)\n",
      "Info    : [ 60%] Meshing curve 47 (Extruded)\n",
      "Info    : [ 60%] Meshing curve 48 (Extruded)\n",
      "Info    : [ 60%] Meshing curve 49 (Extruded)\n",
      "Info    : [ 60%] Meshing curve 50 (Extruded)\n",
      "Info    : [ 60%] Meshing curve 51 (Extruded)\n",
      "Info    : [ 60%] Meshing curve 52 (Extruded)\n",
      "Info    : [ 60%] Meshing curve 53 (Extruded)\n",
      "Info    : [ 60%] Meshing curve 54 (Extruded)\n",
      "Info    : [ 60%] Meshing curve 55 (Extruded)\n",
      "Info    : [ 60%] Meshing curve 56 (Extruded)\n",
      "Info    : [ 70%] Meshing curve 57 (Extruded)\n",
      "Info    : [ 70%] Meshing curve 58 (Extruded)\n",
      "Info    : [ 70%] Meshing curve 59 (Extruded)\n",
      "Info    : [ 70%] Meshing curve 60 (Extruded)\n",
      "Info    : [ 70%] Meshing curve 61 (Extruded)\n",
      "Info    : [ 70%] Meshing curve 62 (Extruded)\n",
      "Info    : [ 70%] Meshing curve 63 (Extruded)\n",
      "Info    : [ 70%] Meshing curve 64 (Extruded)\n",
      "Info    : [ 70%] Meshing curve 65 (Extruded)\n",
      "Info    : [ 80%] Meshing curve 66 (Extruded)\n",
      "Info    : [ 80%] Meshing curve 67 (Extruded)\n",
      "Info    : [ 80%] Meshing curve 68 (Extruded)\n",
      "Info    : [ 80%] Meshing curve 69 (Extruded)\n",
      "Info    : [ 80%] Meshing curve 70 (Extruded)\n",
      "Info    : [ 80%] Meshing curve 71 (Extruded)\n",
      "Info    : [ 80%] Meshing curve 72 (Extruded)\n",
      "Info    : [ 80%] Meshing curve 73 (Extruded)\n",
      "Info    : [ 80%] Meshing curve 74 (Extruded)\n",
      "Info    : [ 90%] Meshing curve 75 (Extruded)\n",
      "Info    : [ 90%] Meshing curve 76 (Extruded)\n",
      "Info    : [ 90%] Meshing curve 77 (Extruded)\n",
      "Info    : [ 90%] Meshing curve 78 (Extruded)\n",
      "Info    : [ 90%] Meshing curve 79 (Extruded)\n",
      "Info    : [ 90%] Meshing curve 80 (Extruded)\n",
      "Info    : [ 90%] Meshing curve 81 (Extruded)\n",
      "Info    : [ 90%] Meshing curve 82 (Extruded)\n",
      "Info    : [ 90%] Meshing curve 83 (Extruded)\n",
      "Info    : [100%] Meshing curve 84 (Extruded)\n",
      "Info    : [100%] Meshing curve 85 (Extruded)\n",
      "Info    : [100%] Meshing curve 86 (Extruded)\n",
      "Info    : [100%] Meshing curve 87 (Extruded)\n",
      "Info    : [100%] Meshing curve 88 (Extruded)\n",
      "Info    : [100%] Meshing curve 89 (Extruded)\n",
      "Info    : [100%] Meshing curve 90 (Extruded)\n",
      "Info    : [100%] Meshing curve 91 (Extruded)\n",
      "Info    : [100%] Meshing curve 92 (Extruded)\n",
      "Info    : Done meshing 1D (Wall 0.00126733s, CPU 0.000961s)\n",
      "Info    : Meshing 2D...\n",
      "Info    : [  0%] Meshing surface 1 (Transfinite)\n",
      "Info    : [ 10%] Meshing surface 2 (Transfinite)\n",
      "Info    : [ 10%] Meshing surface 3 (Transfinite)\n",
      "Info    : [ 10%] Meshing surface 4 (Transfinite)\n",
      "Info    : [ 10%] Meshing surface 5 (Transfinite)\n",
      "Info    : [ 10%] Meshing surface 6 (Transfinite)\n",
      "Info    : [ 20%] Meshing surface 7 (Transfinite)\n",
      "Info    : [ 20%] Meshing surface 8 (Transfinite)\n",
      "Info    : [ 20%] Meshing surface 9 (Transfinite)\n",
      "Info    : [ 20%] Meshing surface 10 (Transfinite)\n",
      "Info    : [ 20%] Meshing surface 11 (Transfinite)\n",
      "Info    : [ 20%] Meshing surface 12 (Transfinite)\n",
      "Info    : [ 30%] Meshing surface 13 (Transfinite)\n",
      "Info    : [ 30%] Meshing surface 14 (Transfinite)\n",
      "Info    : [ 30%] Meshing surface 15 (Transfinite)\n",
      "Info    : [ 30%] Meshing surface 16 (Transfinite)\n",
      "Info    : [ 30%] Meshing surface 17 (Transfinite)\n",
      "Info    : [ 40%] Meshing surface 18 (Transfinite)\n",
      "Info    : [ 40%] Meshing surface 19 (Transfinite)\n",
      "Info    : [ 40%] Meshing surface 20 (Transfinite)\n",
      "Info    : [ 40%] Meshing surface 21 (Transfinite)\n",
      "Info    : [ 40%] Meshing surface 22 (Transfinite)\n",
      "Info    : [ 40%] Meshing surface 23 (Transfinite)\n",
      "Info    : [ 50%] Meshing surface 24 (Transfinite)\n",
      "Info    : [ 50%] Meshing surface 25 (Transfinite)\n",
      "Info    : [ 50%] Meshing surface 26 (Transfinite)\n",
      "Info    : [ 50%] Meshing surface 27 (Transfinite)\n",
      "Info    : [ 50%] Meshing surface 28 (Transfinite)\n",
      "Info    : [ 60%] Meshing surface 29 (Transfinite)\n",
      "Info    : [ 60%] Meshing surface 30 (Transfinite)\n",
      "Info    : [ 60%] Meshing surface 31 (Transfinite)\n",
      "Info    : [ 60%] Meshing surface 32 (Transfinite)\n",
      "Info    : [ 60%] Meshing surface 33 (Transfinite)\n",
      "Info    : [ 60%] Meshing surface 34 (Transfinite)\n",
      "Info    : [ 70%] Meshing surface 35 (Transfinite)\n",
      "Info    : [ 70%] Meshing surface 36 (Transfinite)\n",
      "Info    : [ 70%] Meshing surface 37 (Transfinite)\n",
      "Info    : [ 70%] Meshing surface 38 (Transfinite)\n",
      "Info    : [ 70%] Meshing surface 39 (Transfinite)\n",
      "Info    : [ 70%] Meshing surface 40 (Transfinite)\n",
      "Info    : [ 80%] Meshing surface 41 (Transfinite)\n",
      "Info    : [ 80%] Meshing surface 42 (Transfinite)\n",
      "Info    : [ 80%] Meshing surface 43 (Transfinite)\n",
      "Info    : [ 80%] Meshing surface 44 (Transfinite)\n",
      "Info    : [ 80%] Meshing surface 45 (Transfinite)\n",
      "Info    : [ 90%] Meshing surface 46 (Transfinite)\n",
      "Info    : [ 90%] Meshing surface 47 (Transfinite)\n",
      "Info    : [ 90%] Meshing surface 48 (Transfinite)\n",
      "Info    : [ 90%] Meshing surface 49 (Transfinite)\n",
      "Info    : [ 90%] Meshing surface 50 (Transfinite)\n",
      "Info    : [ 90%] Meshing surface 51 (Transfinite)\n",
      "Info    : [100%] Meshing surface 52 (Transfinite)\n",
      "Info    : [100%] Meshing surface 53 (Transfinite)\n",
      "Info    : [100%] Meshing surface 54 (Transfinite)\n",
      "Info    : [100%] Meshing surface 55 (Transfinite)\n",
      "Info    : [100%] Meshing surface 56 (Transfinite)\n",
      "Info    : Done meshing 2D (Wall 0.0130459s, CPU 0.012127s)\n",
      "Info    : Meshing 3D...\n",
      "Info    : Meshing volume 1 (Extruded)\n",
      "Info    : Meshing volume 2 (Extruded)\n",
      "Info    : Meshing volume 3 (Extruded)\n",
      "Info    : Meshing volume 4 (Extruded)\n",
      "Info    : Meshing volume 5 (Extruded)\n",
      "Info    : Meshing volume 6 (Extruded)\n",
      "Info    : Meshing volume 7 (Extruded)\n",
      "Info    : Meshing volume 8 (Extruded)\n",
      "Info    : Meshing volume 9 (Extruded)\n",
      "Info    : Meshing volume 10 (Extruded)\n",
      "Info    : Meshing volume 11 (Extruded)\n",
      "Info    : Done meshing 3D (Wall 0.0813553s, CPU 0.079205s)\n",
      "Info    : Optimizing mesh...\n",
      "Info    : Done optimizing mesh (Wall 0.0002275s, CPU 0.000235s)\n",
      "Info    : Optimizing mesh (Netgen)...\n",
      "Info    : Done optimizing mesh (Wall 0.000435958s, CPU 0.000212s)\n",
      "Info    : 32448 nodes 64607 elements\n"
     ]
    }
   ],
   "execution_count": 24
  },
  {
   "cell_type": "code",
   "id": "bb47f269-deb0-4081-b73f-7670d0552d22",
   "metadata": {
    "ExecuteTime": {
     "end_time": "2025-02-19T17:26:17.332756Z",
     "start_time": "2025-02-19T17:25:00.105792Z"
    }
   },
   "source": [
    "gmsh.model.occ.synchronize()\n",
    "gmsh.fltk.run()"
   ],
   "outputs": [
    {
     "name": "stdout",
     "output_type": "stream",
     "text": [
      "-------------------------------------------------------\n",
      "Version       : 4.13.1\n",
      "License       : GNU General Public License\n",
      "Build OS      : MacOSARM-sdk\n",
      "Build date    : 20240524\n",
      "Build host    : gmsh.info\n",
      "Build options : 64Bit ALGLIB[contrib] ANN[contrib] Bamg Blas[petsc] Blossom Cgns DIntegration Dlopen DomHex Eigen[contrib] Fltk GMP Gmm[contrib] Hxt Jpeg Kbipack Lapack[petsc] MathEx[contrib] Med Mesh Metis[contrib] Mpeg Netgen Nii2mesh ONELAB ONELABMetamodel OpenCASCADE OpenCASCADE-CAF OpenGL OpenMP OptHom PETSc Parser Plugins Png Post QuadMeshingTools QuadTri Solver TetGen/BR TinyXML2[contrib] TouchBar Untangle Voro++[contrib] WinslowUntangler Zlib\n",
      "FLTK version  : 1.4.0\n",
      "PETSc version : 3.17.4 (real arithmtic)\n",
      "OCC version   : 7.7.2\n",
      "MED version   : 4.1.0\n",
      "Packaged by   : geuzaine\n",
      "Web site      : https://gmsh.info\n",
      "Issue tracker : https://gitlab.onelab.info/gmsh/gmsh/issues\n",
      "-------------------------------------------------------\n"
     ]
    }
   ],
   "execution_count": 25
  },
  {
   "cell_type": "code",
   "execution_count": null,
   "id": "f21b96cf-7233-4a42-b882-ba3a143875c7",
   "metadata": {},
   "outputs": [],
   "source": []
  },
  {
   "cell_type": "code",
   "id": "1d8636bf-a6f9-4a21-8dea-085976eab339",
   "metadata": {
    "ExecuteTime": {
     "end_time": "2025-02-19T17:26:17.478515Z",
     "start_time": "2025-02-19T17:26:17.417399Z"
    }
   },
   "source": [
    "gmsh.model.mesh.createEdges()\n",
    "gmsh.model.mesh.createFaces()"
   ],
   "outputs": [],
   "execution_count": 27
  },
  {
   "cell_type": "code",
   "id": "426babbd-4f58-45da-ad36-0decafcb7efd",
   "metadata": {
    "ExecuteTime": {
     "end_time": "2025-02-19T17:26:22.684616Z",
     "start_time": "2025-02-19T17:26:22.678321Z"
    }
   },
   "source": [
    "nodeTags, nodeCoords, _ = gmsh.model.mesh.getNodes(dim=3,includeBoundary=True)"
   ],
   "outputs": [],
   "execution_count": 28
  },
  {
   "cell_type": "code",
   "id": "1756844d-09ad-4641-8091-310ce87ff026",
   "metadata": {
    "ExecuteTime": {
     "end_time": "2025-02-19T17:26:25.230431Z",
     "start_time": "2025-02-19T17:26:25.226740Z"
    }
   },
   "source": [
    "nodeTags.max()"
   ],
   "outputs": [
    {
     "data": {
      "text/plain": [
       "np.uint64(32448)"
      ]
     },
     "execution_count": 29,
     "metadata": {},
     "output_type": "execute_result"
    }
   ],
   "execution_count": 29
  },
  {
   "cell_type": "code",
   "id": "26d4fbc0-4589-4a77-8dcc-fda0be2b1fdc",
   "metadata": {
    "ExecuteTime": {
     "end_time": "2025-02-19T17:26:27.543911Z",
     "start_time": "2025-02-19T17:26:27.540634Z"
    }
   },
   "source": [
    "nodeCoords.shape"
   ],
   "outputs": [
    {
     "data": {
      "text/plain": [
       "(178464,)"
      ]
     },
     "execution_count": 30,
     "metadata": {},
     "output_type": "execute_result"
    }
   ],
   "execution_count": 30
  },
  {
   "cell_type": "code",
   "id": "4da6a814-0ea3-4f8f-8480-a279b1c85d47",
   "metadata": {
    "ExecuteTime": {
     "end_time": "2025-02-19T17:57:03.671779Z",
     "start_time": "2025-02-19T17:57:03.668142Z"
    }
   },
   "source": [
    "nodeCoords.resize((nodeCoords.shape[0]//3,3))\n",
    "nodeCoords"
   ],
   "outputs": [
    {
     "data": {
      "text/plain": [
       "array([[0.01960784, 0.01960784, 0.        ],\n",
       "       [0.01960784, 0.03921569, 0.        ],\n",
       "       [0.01960784, 0.05882353, 0.        ],\n",
       "       ...,\n",
       "       [1.        , 0.        , 0.011     ],\n",
       "       [1.        , 1.        , 0.011     ],\n",
       "       [0.        , 1.        , 0.011     ]])"
      ]
     },
     "execution_count": 31,
     "metadata": {},
     "output_type": "execute_result"
    }
   ],
   "execution_count": 31
  },
  {
   "metadata": {
    "ExecuteTime": {
     "end_time": "2025-02-19T17:57:46.080320Z",
     "start_time": "2025-02-19T17:57:46.076751Z"
    }
   },
   "cell_type": "code",
   "source": "nodeCoords.shape",
   "id": "1e910d01b5436c14",
   "outputs": [
    {
     "data": {
      "text/plain": [
       "(59488, 3)"
      ]
     },
     "execution_count": 32,
     "metadata": {},
     "output_type": "execute_result"
    }
   ],
   "execution_count": 32
  },
  {
   "cell_type": "code",
   "id": "87059d75-5150-4306-9ddd-22ae3e8c3d46",
   "metadata": {
    "ExecuteTime": {
     "end_time": "2025-02-19T17:57:51.375907Z",
     "start_time": "2025-02-19T17:57:51.371549Z"
    }
   },
   "source": [
    "NodesData = np.hstack((nodeTags[:,np.newaxis],nodeCoords))"
   ],
   "outputs": [],
   "execution_count": 33
  },
  {
   "cell_type": "code",
   "id": "5cc0dd61-cbc7-4307-a8b0-576ebd842703",
   "metadata": {
    "ExecuteTime": {
     "end_time": "2025-02-19T17:58:02.821739Z",
     "start_time": "2025-02-19T17:58:02.818113Z"
    }
   },
   "source": [
    "NodesData"
   ],
   "outputs": [
    {
     "data": {
      "text/plain": [
       "array([[2.44900000e+03, 1.96078431e-02, 1.96078431e-02, 0.00000000e+00],\n",
       "       [2.45000000e+03, 1.96078431e-02, 3.92156863e-02, 0.00000000e+00],\n",
       "       [2.45100000e+03, 1.96078431e-02, 5.88235294e-02, 0.00000000e+00],\n",
       "       ...,\n",
       "       [4.60000000e+01, 1.00000000e+00, 0.00000000e+00, 1.10000000e-02],\n",
       "       [4.70000000e+01, 1.00000000e+00, 1.00000000e+00, 1.10000000e-02],\n",
       "       [4.80000000e+01, 0.00000000e+00, 1.00000000e+00, 1.10000000e-02]])"
      ]
     },
     "execution_count": 34,
     "metadata": {},
     "output_type": "execute_result"
    }
   ],
   "execution_count": 34
  },
  {
   "cell_type": "code",
   "execution_count": 28,
   "id": "403ba642-e111-49e5-b498-158f0d367281",
   "metadata": {},
   "outputs": [
    {
     "name": "stdout",
     "output_type": "stream",
     "text": [
      "Info    : Writing '/Users/collapsor/PycharmProjects/Taichi_project/Results/Model_1_GMSH_OCC_A_1.0_B_1.0_N_3_Nx_50_Ny_50_Nz_1/Model_1_GMSH_OCC_A_1.0_B_1.0_N_3_Nx_50_Ny_50_Nz_1.msh'...\n",
      "Info    : Done writing '/Users/collapsor/PycharmProjects/Taichi_project/Results/Model_1_GMSH_OCC_A_1.0_B_1.0_N_3_Nx_50_Ny_50_Nz_1/Model_1_GMSH_OCC_A_1.0_B_1.0_N_3_Nx_50_Ny_50_Nz_1.msh'\n",
      "Info    : Writing '/Users/collapsor/PycharmProjects/Taichi_project/Results/Model_1_GMSH_OCC_A_1.0_B_1.0_N_3_Nx_50_Ny_50_Nz_1/Model_1_GMSH_OCC_A_1.0_B_1.0_N_3_Nx_50_Ny_50_Nz_1.stl'...\n",
      "Info    : Done writing '/Users/collapsor/PycharmProjects/Taichi_project/Results/Model_1_GMSH_OCC_A_1.0_B_1.0_N_3_Nx_50_Ny_50_Nz_1/Model_1_GMSH_OCC_A_1.0_B_1.0_N_3_Nx_50_Ny_50_Nz_1.stl'\n"
     ]
    }
   ],
   "source": [
    "gmsh.option.setNumber(\"Mesh.SaveAll\", 1)\n",
    "gmsh.option.setNumber(\"Mesh.SaveGroupsOfNodes\", 1)\n",
    "\n",
    "gmsh.option.setNumber(\"Mesh.Format\", 1)\n",
    "gmsh.write(os.path.join(FPath,FName0+\".msh\"))\n",
    "\n",
    "gmsh.option.setNumber(\"Mesh.Format\", 27)\n",
    "gmsh.write(os.path.join(FPath,FName0+\".stl\"))"
   ]
  },
  {
   "cell_type": "code",
   "execution_count": null,
   "id": "be6780a2-0b5b-48dd-a3ac-fb2cebee4e4e",
   "metadata": {},
   "outputs": [],
   "source": []
  },
  {
   "cell_type": "code",
   "execution_count": null,
   "id": "cb9427ba-6fdd-4816-b8c6-785d116bc136",
   "metadata": {},
   "outputs": [],
   "source": []
  },
  {
   "cell_type": "code",
   "execution_count": null,
   "id": "83153a78-8658-4ec4-be46-3f0704d56cdc",
   "metadata": {},
   "outputs": [],
   "source": []
  },
  {
   "cell_type": "code",
   "execution_count": null,
   "id": "5a6ccfc2-53a9-4047-a008-88d5aa7ad48e",
   "metadata": {},
   "outputs": [],
   "source": []
  },
  {
   "cell_type": "code",
   "execution_count": null,
   "id": "3f0edc48-ce57-4fef-bf70-a968573a75ab",
   "metadata": {},
   "outputs": [],
   "source": []
  },
  {
   "cell_type": "code",
   "execution_count": null,
   "id": "1b28287a-6427-492c-820c-f834657ada1d",
   "metadata": {},
   "outputs": [],
   "source": []
  },
  {
   "cell_type": "code",
   "execution_count": null,
   "id": "66f0f2a9-b301-4d9f-bca8-ddd0250e1580",
   "metadata": {},
   "outputs": [],
   "source": []
  }
 ],
 "metadata": {
  "kernelspec": {
   "display_name": "Python 3 (ipykernel)",
   "language": "python",
   "name": "python3"
  },
  "language_info": {
   "codemirror_mode": {
    "name": "ipython",
    "version": 3
   },
   "file_extension": ".py",
   "mimetype": "text/x-python",
   "name": "python",
   "nbconvert_exporter": "python",
   "pygments_lexer": "ipython3",
   "version": "3.9.6"
  }
 },
 "nbformat": 4,
 "nbformat_minor": 5
}
